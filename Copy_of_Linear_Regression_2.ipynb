{
  "nbformat": 4,
  "nbformat_minor": 0,
  "metadata": {
    "colab": {
      "name": "Copy of Linear Regression 2.ipynb",
      "provenance": [],
      "include_colab_link": true
    },
    "kernelspec": {
      "name": "python3",
      "display_name": "Python 3"
    },
    "language_info": {
      "name": "python"
    }
  },
  "cells": [
    {
      "cell_type": "markdown",
      "metadata": {
        "id": "view-in-github",
        "colab_type": "text"
      },
      "source": [
        "<a href=\"https://colab.research.google.com/github/Lakshmi489/MLnow_2.0/blob/main/Copy_of_Linear_Regression_2.ipynb\" target=\"_parent\"><img src=\"https://colab.research.google.com/assets/colab-badge.svg\" alt=\"Open In Colab\"/></a>"
      ]
    },
    {
      "cell_type": "markdown",
      "metadata": {
        "id": "ZMWWh7wEyUpB"
      },
      "source": [
        "Assignment_01\n",
        "\n",
        "This dataset contains the data of different exams and chance of getting admission in universities\n",
        "\n",
        "the model is trained to find the error when sop is plottedagainst cgpa"
      ]
    },
    {
      "cell_type": "code",
      "metadata": {
        "colab": {
          "base_uri": "https://localhost:8080/"
        },
        "id": "RROCyLxbn2nV",
        "outputId": "b7d1f959-6a48-43af-a936-ef63344cb7d9"
      },
      "source": [
        "from google.colab import drive\n",
        "drive.mount('/content/drive/')"
      ],
      "execution_count": 2,
      "outputs": [
        {
          "output_type": "stream",
          "text": [
            "Drive already mounted at /content/drive/; to attempt to forcibly remount, call drive.mount(\"/content/drive/\", force_remount=True).\n"
          ],
          "name": "stdout"
        }
      ]
    },
    {
      "cell_type": "code",
      "metadata": {
        "colab": {
          "base_uri": "https://localhost:8080/"
        },
        "id": "JpJNb6K3oR6J",
        "outputId": "6c7b2bbb-f015-4aa1-e106-7c1ab88624ce"
      },
      "source": [
        "cd'/content/drive/MyDrive/Colab Notebooks/lin reg'"
      ],
      "execution_count": 3,
      "outputs": [
        {
          "output_type": "stream",
          "text": [
            "/content/drive/MyDrive/Colab Notebooks/lin reg\n"
          ],
          "name": "stdout"
        }
      ]
    },
    {
      "cell_type": "code",
      "metadata": {
        "colab": {
          "base_uri": "https://localhost:8080/"
        },
        "id": "UES242_roYxw",
        "outputId": "905df11d-d22b-4535-cbda-497f3a45125e"
      },
      "source": [
        "ls"
      ],
      "execution_count": null,
      "outputs": [
        {
          "output_type": "stream",
          "text": [
            "Admission_Predict.csv  Admission_Predict_Ver1.1.csv\n"
          ],
          "name": "stdout"
        }
      ]
    },
    {
      "cell_type": "code",
      "metadata": {
        "id": "FjTvlJiJocPI"
      },
      "source": [
        "import os\n",
        "import pandas as pd\n",
        "import numpy as np\n",
        "import tensorflow as tf\n",
        "from tensorflow import keras\n",
        "import os"
      ],
      "execution_count": null,
      "outputs": []
    },
    {
      "cell_type": "code",
      "metadata": {
        "id": "xyEPUC2ZowRp"
      },
      "source": [
        "Data=pd.read_csv('Admission_Predict.csv', sep=',')"
      ],
      "execution_count": null,
      "outputs": []
    },
    {
      "cell_type": "code",
      "metadata": {
        "colab": {
          "base_uri": "https://localhost:8080/",
          "height": 204
        },
        "id": "D9DGuxoTo5SR",
        "outputId": "1b522046-08f9-423d-e931-d2e668eeb934"
      },
      "source": [
        "Data.head(5)"
      ],
      "execution_count": null,
      "outputs": [
        {
          "output_type": "execute_result",
          "data": {
            "text/html": [
              "<div>\n",
              "<style scoped>\n",
              "    .dataframe tbody tr th:only-of-type {\n",
              "        vertical-align: middle;\n",
              "    }\n",
              "\n",
              "    .dataframe tbody tr th {\n",
              "        vertical-align: top;\n",
              "    }\n",
              "\n",
              "    .dataframe thead th {\n",
              "        text-align: right;\n",
              "    }\n",
              "</style>\n",
              "<table border=\"1\" class=\"dataframe\">\n",
              "  <thead>\n",
              "    <tr style=\"text-align: right;\">\n",
              "      <th></th>\n",
              "      <th>Serial No.</th>\n",
              "      <th>GRE Score</th>\n",
              "      <th>TOEFL Score</th>\n",
              "      <th>University Rating</th>\n",
              "      <th>SOP</th>\n",
              "      <th>LOR</th>\n",
              "      <th>CGPA</th>\n",
              "      <th>Research</th>\n",
              "      <th>Chance of Admit</th>\n",
              "    </tr>\n",
              "  </thead>\n",
              "  <tbody>\n",
              "    <tr>\n",
              "      <th>0</th>\n",
              "      <td>1</td>\n",
              "      <td>337</td>\n",
              "      <td>118</td>\n",
              "      <td>4</td>\n",
              "      <td>4.5</td>\n",
              "      <td>4.5</td>\n",
              "      <td>9.65</td>\n",
              "      <td>1</td>\n",
              "      <td>0.92</td>\n",
              "    </tr>\n",
              "    <tr>\n",
              "      <th>1</th>\n",
              "      <td>2</td>\n",
              "      <td>324</td>\n",
              "      <td>107</td>\n",
              "      <td>4</td>\n",
              "      <td>4.0</td>\n",
              "      <td>4.5</td>\n",
              "      <td>8.87</td>\n",
              "      <td>1</td>\n",
              "      <td>0.76</td>\n",
              "    </tr>\n",
              "    <tr>\n",
              "      <th>2</th>\n",
              "      <td>3</td>\n",
              "      <td>316</td>\n",
              "      <td>104</td>\n",
              "      <td>3</td>\n",
              "      <td>3.0</td>\n",
              "      <td>3.5</td>\n",
              "      <td>8.00</td>\n",
              "      <td>1</td>\n",
              "      <td>0.72</td>\n",
              "    </tr>\n",
              "    <tr>\n",
              "      <th>3</th>\n",
              "      <td>4</td>\n",
              "      <td>322</td>\n",
              "      <td>110</td>\n",
              "      <td>3</td>\n",
              "      <td>3.5</td>\n",
              "      <td>2.5</td>\n",
              "      <td>8.67</td>\n",
              "      <td>1</td>\n",
              "      <td>0.80</td>\n",
              "    </tr>\n",
              "    <tr>\n",
              "      <th>4</th>\n",
              "      <td>5</td>\n",
              "      <td>314</td>\n",
              "      <td>103</td>\n",
              "      <td>2</td>\n",
              "      <td>2.0</td>\n",
              "      <td>3.0</td>\n",
              "      <td>8.21</td>\n",
              "      <td>0</td>\n",
              "      <td>0.65</td>\n",
              "    </tr>\n",
              "  </tbody>\n",
              "</table>\n",
              "</div>"
            ],
            "text/plain": [
              "   Serial No.  GRE Score  TOEFL Score  ...  CGPA  Research  Chance of Admit \n",
              "0           1        337          118  ...  9.65         1              0.92\n",
              "1           2        324          107  ...  8.87         1              0.76\n",
              "2           3        316          104  ...  8.00         1              0.72\n",
              "3           4        322          110  ...  8.67         1              0.80\n",
              "4           5        314          103  ...  8.21         0              0.65\n",
              "\n",
              "[5 rows x 9 columns]"
            ]
          },
          "metadata": {
            "tags": []
          },
          "execution_count": 8
        }
      ]
    },
    {
      "cell_type": "code",
      "metadata": {
        "colab": {
          "base_uri": "https://localhost:8080/",
          "height": 204
        },
        "id": "Z1dVoIGwpUm4",
        "outputId": "9a8e5021-7b02-4fc2-b20c-e2ada3121f67"
      },
      "source": [
        "Data.tail()"
      ],
      "execution_count": null,
      "outputs": [
        {
          "output_type": "execute_result",
          "data": {
            "text/html": [
              "<div>\n",
              "<style scoped>\n",
              "    .dataframe tbody tr th:only-of-type {\n",
              "        vertical-align: middle;\n",
              "    }\n",
              "\n",
              "    .dataframe tbody tr th {\n",
              "        vertical-align: top;\n",
              "    }\n",
              "\n",
              "    .dataframe thead th {\n",
              "        text-align: right;\n",
              "    }\n",
              "</style>\n",
              "<table border=\"1\" class=\"dataframe\">\n",
              "  <thead>\n",
              "    <tr style=\"text-align: right;\">\n",
              "      <th></th>\n",
              "      <th>Serial No.</th>\n",
              "      <th>GRE Score</th>\n",
              "      <th>TOEFL Score</th>\n",
              "      <th>University Rating</th>\n",
              "      <th>SOP</th>\n",
              "      <th>LOR</th>\n",
              "      <th>CGPA</th>\n",
              "      <th>Research</th>\n",
              "      <th>Chance of Admit</th>\n",
              "    </tr>\n",
              "  </thead>\n",
              "  <tbody>\n",
              "    <tr>\n",
              "      <th>395</th>\n",
              "      <td>396</td>\n",
              "      <td>324</td>\n",
              "      <td>110</td>\n",
              "      <td>3</td>\n",
              "      <td>3.5</td>\n",
              "      <td>3.5</td>\n",
              "      <td>9.04</td>\n",
              "      <td>1</td>\n",
              "      <td>0.82</td>\n",
              "    </tr>\n",
              "    <tr>\n",
              "      <th>396</th>\n",
              "      <td>397</td>\n",
              "      <td>325</td>\n",
              "      <td>107</td>\n",
              "      <td>3</td>\n",
              "      <td>3.0</td>\n",
              "      <td>3.5</td>\n",
              "      <td>9.11</td>\n",
              "      <td>1</td>\n",
              "      <td>0.84</td>\n",
              "    </tr>\n",
              "    <tr>\n",
              "      <th>397</th>\n",
              "      <td>398</td>\n",
              "      <td>330</td>\n",
              "      <td>116</td>\n",
              "      <td>4</td>\n",
              "      <td>5.0</td>\n",
              "      <td>4.5</td>\n",
              "      <td>9.45</td>\n",
              "      <td>1</td>\n",
              "      <td>0.91</td>\n",
              "    </tr>\n",
              "    <tr>\n",
              "      <th>398</th>\n",
              "      <td>399</td>\n",
              "      <td>312</td>\n",
              "      <td>103</td>\n",
              "      <td>3</td>\n",
              "      <td>3.5</td>\n",
              "      <td>4.0</td>\n",
              "      <td>8.78</td>\n",
              "      <td>0</td>\n",
              "      <td>0.67</td>\n",
              "    </tr>\n",
              "    <tr>\n",
              "      <th>399</th>\n",
              "      <td>400</td>\n",
              "      <td>333</td>\n",
              "      <td>117</td>\n",
              "      <td>4</td>\n",
              "      <td>5.0</td>\n",
              "      <td>4.0</td>\n",
              "      <td>9.66</td>\n",
              "      <td>1</td>\n",
              "      <td>0.95</td>\n",
              "    </tr>\n",
              "  </tbody>\n",
              "</table>\n",
              "</div>"
            ],
            "text/plain": [
              "     Serial No.  GRE Score  TOEFL Score  ...  CGPA  Research  Chance of Admit \n",
              "395         396        324          110  ...  9.04         1              0.82\n",
              "396         397        325          107  ...  9.11         1              0.84\n",
              "397         398        330          116  ...  9.45         1              0.91\n",
              "398         399        312          103  ...  8.78         0              0.67\n",
              "399         400        333          117  ...  9.66         1              0.95\n",
              "\n",
              "[5 rows x 9 columns]"
            ]
          },
          "metadata": {
            "tags": []
          },
          "execution_count": 9
        }
      ]
    },
    {
      "cell_type": "code",
      "metadata": {
        "colab": {
          "base_uri": "https://localhost:8080/",
          "height": 419
        },
        "id": "MtPHJD7epeFX",
        "outputId": "d0ed34fc-ce23-48c3-f6df-220bd82d796e"
      },
      "source": [
        "Data.isnull()"
      ],
      "execution_count": null,
      "outputs": [
        {
          "output_type": "execute_result",
          "data": {
            "text/html": [
              "<div>\n",
              "<style scoped>\n",
              "    .dataframe tbody tr th:only-of-type {\n",
              "        vertical-align: middle;\n",
              "    }\n",
              "\n",
              "    .dataframe tbody tr th {\n",
              "        vertical-align: top;\n",
              "    }\n",
              "\n",
              "    .dataframe thead th {\n",
              "        text-align: right;\n",
              "    }\n",
              "</style>\n",
              "<table border=\"1\" class=\"dataframe\">\n",
              "  <thead>\n",
              "    <tr style=\"text-align: right;\">\n",
              "      <th></th>\n",
              "      <th>Serial No.</th>\n",
              "      <th>GRE Score</th>\n",
              "      <th>TOEFL Score</th>\n",
              "      <th>University Rating</th>\n",
              "      <th>SOP</th>\n",
              "      <th>LOR</th>\n",
              "      <th>CGPA</th>\n",
              "      <th>Research</th>\n",
              "      <th>Chance of Admit</th>\n",
              "    </tr>\n",
              "  </thead>\n",
              "  <tbody>\n",
              "    <tr>\n",
              "      <th>0</th>\n",
              "      <td>False</td>\n",
              "      <td>False</td>\n",
              "      <td>False</td>\n",
              "      <td>False</td>\n",
              "      <td>False</td>\n",
              "      <td>False</td>\n",
              "      <td>False</td>\n",
              "      <td>False</td>\n",
              "      <td>False</td>\n",
              "    </tr>\n",
              "    <tr>\n",
              "      <th>1</th>\n",
              "      <td>False</td>\n",
              "      <td>False</td>\n",
              "      <td>False</td>\n",
              "      <td>False</td>\n",
              "      <td>False</td>\n",
              "      <td>False</td>\n",
              "      <td>False</td>\n",
              "      <td>False</td>\n",
              "      <td>False</td>\n",
              "    </tr>\n",
              "    <tr>\n",
              "      <th>2</th>\n",
              "      <td>False</td>\n",
              "      <td>False</td>\n",
              "      <td>False</td>\n",
              "      <td>False</td>\n",
              "      <td>False</td>\n",
              "      <td>False</td>\n",
              "      <td>False</td>\n",
              "      <td>False</td>\n",
              "      <td>False</td>\n",
              "    </tr>\n",
              "    <tr>\n",
              "      <th>3</th>\n",
              "      <td>False</td>\n",
              "      <td>False</td>\n",
              "      <td>False</td>\n",
              "      <td>False</td>\n",
              "      <td>False</td>\n",
              "      <td>False</td>\n",
              "      <td>False</td>\n",
              "      <td>False</td>\n",
              "      <td>False</td>\n",
              "    </tr>\n",
              "    <tr>\n",
              "      <th>4</th>\n",
              "      <td>False</td>\n",
              "      <td>False</td>\n",
              "      <td>False</td>\n",
              "      <td>False</td>\n",
              "      <td>False</td>\n",
              "      <td>False</td>\n",
              "      <td>False</td>\n",
              "      <td>False</td>\n",
              "      <td>False</td>\n",
              "    </tr>\n",
              "    <tr>\n",
              "      <th>...</th>\n",
              "      <td>...</td>\n",
              "      <td>...</td>\n",
              "      <td>...</td>\n",
              "      <td>...</td>\n",
              "      <td>...</td>\n",
              "      <td>...</td>\n",
              "      <td>...</td>\n",
              "      <td>...</td>\n",
              "      <td>...</td>\n",
              "    </tr>\n",
              "    <tr>\n",
              "      <th>395</th>\n",
              "      <td>False</td>\n",
              "      <td>False</td>\n",
              "      <td>False</td>\n",
              "      <td>False</td>\n",
              "      <td>False</td>\n",
              "      <td>False</td>\n",
              "      <td>False</td>\n",
              "      <td>False</td>\n",
              "      <td>False</td>\n",
              "    </tr>\n",
              "    <tr>\n",
              "      <th>396</th>\n",
              "      <td>False</td>\n",
              "      <td>False</td>\n",
              "      <td>False</td>\n",
              "      <td>False</td>\n",
              "      <td>False</td>\n",
              "      <td>False</td>\n",
              "      <td>False</td>\n",
              "      <td>False</td>\n",
              "      <td>False</td>\n",
              "    </tr>\n",
              "    <tr>\n",
              "      <th>397</th>\n",
              "      <td>False</td>\n",
              "      <td>False</td>\n",
              "      <td>False</td>\n",
              "      <td>False</td>\n",
              "      <td>False</td>\n",
              "      <td>False</td>\n",
              "      <td>False</td>\n",
              "      <td>False</td>\n",
              "      <td>False</td>\n",
              "    </tr>\n",
              "    <tr>\n",
              "      <th>398</th>\n",
              "      <td>False</td>\n",
              "      <td>False</td>\n",
              "      <td>False</td>\n",
              "      <td>False</td>\n",
              "      <td>False</td>\n",
              "      <td>False</td>\n",
              "      <td>False</td>\n",
              "      <td>False</td>\n",
              "      <td>False</td>\n",
              "    </tr>\n",
              "    <tr>\n",
              "      <th>399</th>\n",
              "      <td>False</td>\n",
              "      <td>False</td>\n",
              "      <td>False</td>\n",
              "      <td>False</td>\n",
              "      <td>False</td>\n",
              "      <td>False</td>\n",
              "      <td>False</td>\n",
              "      <td>False</td>\n",
              "      <td>False</td>\n",
              "    </tr>\n",
              "  </tbody>\n",
              "</table>\n",
              "<p>400 rows × 9 columns</p>\n",
              "</div>"
            ],
            "text/plain": [
              "     Serial No.  GRE Score  TOEFL Score  ...   CGPA  Research  Chance of Admit \n",
              "0         False      False        False  ...  False     False             False\n",
              "1         False      False        False  ...  False     False             False\n",
              "2         False      False        False  ...  False     False             False\n",
              "3         False      False        False  ...  False     False             False\n",
              "4         False      False        False  ...  False     False             False\n",
              "..          ...        ...          ...  ...    ...       ...               ...\n",
              "395       False      False        False  ...  False     False             False\n",
              "396       False      False        False  ...  False     False             False\n",
              "397       False      False        False  ...  False     False             False\n",
              "398       False      False        False  ...  False     False             False\n",
              "399       False      False        False  ...  False     False             False\n",
              "\n",
              "[400 rows x 9 columns]"
            ]
          },
          "metadata": {
            "tags": []
          },
          "execution_count": 10
        }
      ]
    },
    {
      "cell_type": "code",
      "metadata": {
        "colab": {
          "base_uri": "https://localhost:8080/"
        },
        "id": "mGsATEmDqpCx",
        "outputId": "a7940bf3-f605-478d-e461-0ed430d362df"
      },
      "source": [
        "Data.isnull().sum()"
      ],
      "execution_count": null,
      "outputs": [
        {
          "output_type": "execute_result",
          "data": {
            "text/plain": [
              "Serial No.           0\n",
              "GRE Score            0\n",
              "TOEFL Score          0\n",
              "University Rating    0\n",
              "SOP                  0\n",
              "LOR                  0\n",
              "CGPA                 0\n",
              "Research             0\n",
              "Chance of Admit      0\n",
              "dtype: int64"
            ]
          },
          "metadata": {
            "tags": []
          },
          "execution_count": 11
        }
      ]
    },
    {
      "cell_type": "code",
      "metadata": {
        "colab": {
          "base_uri": "https://localhost:8080/"
        },
        "id": "-x2tHWYFqusA",
        "outputId": "9279ce19-45bc-4388-f669-5781858f3bb6"
      },
      "source": [
        "Data.columns"
      ],
      "execution_count": null,
      "outputs": [
        {
          "output_type": "execute_result",
          "data": {
            "text/plain": [
              "Index(['Serial No.', 'GRE Score', 'TOEFL Score', 'University Rating', 'SOP',\n",
              "       'LOR ', 'CGPA', 'Research', 'Chance of Admit '],\n",
              "      dtype='object')"
            ]
          },
          "metadata": {
            "tags": []
          },
          "execution_count": 12
        }
      ]
    },
    {
      "cell_type": "code",
      "metadata": {
        "id": "AraqZlE3rSCI"
      },
      "source": [
        "Data=Data[['SOP', 'CGPA']]"
      ],
      "execution_count": null,
      "outputs": []
    },
    {
      "cell_type": "code",
      "metadata": {
        "colab": {
          "base_uri": "https://localhost:8080/",
          "height": 204
        },
        "id": "LNVbNIldsKXY",
        "outputId": "0512c213-a3cc-4d67-ddc8-2e5e199ed16f"
      },
      "source": [
        "Data.head()"
      ],
      "execution_count": null,
      "outputs": [
        {
          "output_type": "execute_result",
          "data": {
            "text/html": [
              "<div>\n",
              "<style scoped>\n",
              "    .dataframe tbody tr th:only-of-type {\n",
              "        vertical-align: middle;\n",
              "    }\n",
              "\n",
              "    .dataframe tbody tr th {\n",
              "        vertical-align: top;\n",
              "    }\n",
              "\n",
              "    .dataframe thead th {\n",
              "        text-align: right;\n",
              "    }\n",
              "</style>\n",
              "<table border=\"1\" class=\"dataframe\">\n",
              "  <thead>\n",
              "    <tr style=\"text-align: right;\">\n",
              "      <th></th>\n",
              "      <th>SOP</th>\n",
              "      <th>CGPA</th>\n",
              "    </tr>\n",
              "  </thead>\n",
              "  <tbody>\n",
              "    <tr>\n",
              "      <th>0</th>\n",
              "      <td>4.5</td>\n",
              "      <td>9.65</td>\n",
              "    </tr>\n",
              "    <tr>\n",
              "      <th>1</th>\n",
              "      <td>4.0</td>\n",
              "      <td>8.87</td>\n",
              "    </tr>\n",
              "    <tr>\n",
              "      <th>2</th>\n",
              "      <td>3.0</td>\n",
              "      <td>8.00</td>\n",
              "    </tr>\n",
              "    <tr>\n",
              "      <th>3</th>\n",
              "      <td>3.5</td>\n",
              "      <td>8.67</td>\n",
              "    </tr>\n",
              "    <tr>\n",
              "      <th>4</th>\n",
              "      <td>2.0</td>\n",
              "      <td>8.21</td>\n",
              "    </tr>\n",
              "  </tbody>\n",
              "</table>\n",
              "</div>"
            ],
            "text/plain": [
              "   SOP  CGPA\n",
              "0  4.5  9.65\n",
              "1  4.0  8.87\n",
              "2  3.0  8.00\n",
              "3  3.5  8.67\n",
              "4  2.0  8.21"
            ]
          },
          "metadata": {
            "tags": []
          },
          "execution_count": 14
        }
      ]
    },
    {
      "cell_type": "code",
      "metadata": {
        "id": "YFC7yD2DsQqg"
      },
      "source": [
        "Data.to_csv('Admission_Predict_1.csv')"
      ],
      "execution_count": null,
      "outputs": []
    },
    {
      "cell_type": "code",
      "metadata": {
        "colab": {
          "base_uri": "https://localhost:8080/"
        },
        "id": "BCEnNWxgsmJB",
        "outputId": "566d4718-4354-47c0-d207-7372c13c49f5"
      },
      "source": [
        "ls"
      ],
      "execution_count": null,
      "outputs": [
        {
          "output_type": "stream",
          "text": [
            "Admission_Predict_1.csv  Admission_Predict.csv  Admission_Predict_Ver1.1.csv\n"
          ],
          "name": "stdout"
        }
      ]
    },
    {
      "cell_type": "code",
      "metadata": {
        "colab": {
          "base_uri": "https://localhost:8080/",
          "height": 147
        },
        "id": "RXgQ18TessPb",
        "outputId": "3aa7b6a2-71fa-457d-ab9a-c014a890f013"
      },
      "source": [
        "import seaborn as sns\n",
        "sns.palplot(sns.color_palette('PuOr')) \n",
        "pal = sns.color_palette('PuOr', 6) \n",
        "pal.as_hex() "
      ],
      "execution_count": null,
      "outputs": [
        {
          "output_type": "execute_result",
          "data": {
            "text/html": [
              "<svg  width=\"330\" height=\"55\"><rect x=\"0\" y=\"0\" width=\"55\" height=\"55\" style=\"fill:#c6690c;stroke-width:2;stroke:rgb(255,255,255)\"/><rect x=\"55\" y=\"0\" width=\"55\" height=\"55\" style=\"fill:#f9b158;stroke-width:2;stroke:rgb(255,255,255)\"/><rect x=\"110\" y=\"0\" width=\"55\" height=\"55\" style=\"fill:#fce6c8;stroke-width:2;stroke:rgb(255,255,255)\"/><rect x=\"165\" y=\"0\" width=\"55\" height=\"55\" style=\"fill:#e1e2ee;stroke-width:2;stroke:rgb(255,255,255)\"/><rect x=\"220\" y=\"0\" width=\"55\" height=\"55\" style=\"fill:#aba3cd;stroke-width:2;stroke:rgb(255,255,255)\"/><rect x=\"275\" y=\"0\" width=\"55\" height=\"55\" style=\"fill:#664697;stroke-width:2;stroke:rgb(255,255,255)\"/></svg>"
            ],
            "text/plain": [
              "['#c6690c', '#f9b158', '#fce6c8', '#e1e2ee', '#aba3cd', '#664697']"
            ]
          },
          "metadata": {
            "tags": []
          },
          "execution_count": 17
        },
        {
          "output_type": "display_data",
          "data": {
            "image/png": "[encoded data removed]",
            "text/plain": [
              "<Figure size 432x72 with 1 Axes>"
            ]
          },
          "metadata": {
            "tags": [],
            "needs_background": "light"
          }
        }
      ]
    },
    {
      "cell_type": "code",
      "metadata": {
        "colab": {
          "base_uri": "https://localhost:8080/",
          "height": 85
        },
        "id": "GjNw_KUDszjP",
        "outputId": "b8659e82-340c-44d6-c7ff-66395c0b14e8"
      },
      "source": [
        "import matplotlib.pyplot as plt\n",
        "plt.style.use(['seaborn'])\n",
        "sns_colors = ['#c6690c', '#664697'] #orange Purple hex codes\n",
        "sns.set_palette(sns_colors) #set the palette as sns_colors \n",
        "sns.palplot(sns.color_palette(sns_colors)) "
      ],
      "execution_count": null,
      "outputs": [
        {
          "output_type": "display_data",
          "data": {
            "image/png": "[encoded data removed]",
            "text/plain": [
              "<Figure size 144x72 with 1 Axes>"
            ]
          },
          "metadata": {
            "tags": []
          }
        }
      ]
    },
    {
      "cell_type": "code",
      "metadata": {
        "colab": {
          "base_uri": "https://localhost:8080/",
          "height": 391
        },
        "id": "O22Oe7afs4yh",
        "outputId": "be572656-aced-444f-f394-6359866d43d3"
      },
      "source": [
        "sns.pairplot(Data,\n",
        "             x_vars = ['SOP', 'CGPA'],\n",
        "             y_vars =  ['SOP', 'CGPA'],\n",
        "       diag_kind='kde'\n",
        "             )"
      ],
      "execution_count": null,
      "outputs": [
        {
          "output_type": "execute_result",
          "data": {
            "text/plain": [
              "<seaborn.axisgrid.PairGrid at 0x7f5b8bc26690>"
            ]
          },
          "metadata": {
            "tags": []
          },
          "execution_count": 19
        },
        {
          "output_type": "display_data",
          "data": {
            "image/png": "[encoded data removed]",
            "text/plain": [
              "<Figure size 360x360 with 6 Axes>"
            ]
          },
          "metadata": {
            "tags": []
          }
        }
      ]
    },
    {
      "cell_type": "code",
      "metadata": {
        "colab": {
          "base_uri": "https://localhost:8080/"
        },
        "id": "FMwhk83ftKH_",
        "outputId": "6f5b77d2-f8bf-4ef6-d2b2-b9067171be9e"
      },
      "source": [
        "trainDataset = Data.sample(frac=0.8, random_state=0) \n",
        "print(trainDataset.head())"
      ],
      "execution_count": null,
      "outputs": [
        {
          "output_type": "stream",
          "text": [
            "     SOP  CGPA\n",
            "132  3.5  8.56\n",
            "309  3.5  8.60\n",
            "341  3.5  8.76\n",
            "196  3.0  8.26\n",
            "246  3.0  8.73\n"
          ],
          "name": "stdout"
        }
      ]
    },
    {
      "cell_type": "code",
      "metadata": {
        "colab": {
          "base_uri": "https://localhost:8080/"
        },
        "id": "8WN8Z6UouIMj",
        "outputId": "0499da7e-a9d6-452e-cc7c-9ff61590182e"
      },
      "source": [
        "testDataset= Data.drop(trainDataset.index)\n",
        "print(testDataset.head())"
      ],
      "execution_count": null,
      "outputs": [
        {
          "output_type": "stream",
          "text": [
            "    SOP  CGPA\n",
            "9   3.5   8.6\n",
            "25  4.5   9.6\n",
            "28  2.0   7.2\n",
            "31  4.0   8.3\n",
            "32  3.0   9.4\n"
          ],
          "name": "stdout"
        }
      ]
    },
    {
      "cell_type": "code",
      "metadata": {
        "colab": {
          "base_uri": "https://localhost:8080/"
        },
        "id": "bW7c3dbEuWSB",
        "outputId": "32e1dc1a-e2af-4036-de67-0fe180af83f0"
      },
      "source": [
        "print(trainDataset.shape)\n",
        "print(testDataset.shape)"
      ],
      "execution_count": null,
      "outputs": [
        {
          "output_type": "stream",
          "text": [
            "(320, 2)\n",
            "(80, 2)\n"
          ],
          "name": "stdout"
        }
      ]
    },
    {
      "cell_type": "code",
      "metadata": {
        "colab": {
          "base_uri": "https://localhost:8080/"
        },
        "id": "zReVwhpzubLS",
        "outputId": "47f446e8-7b54-4622-b8b0-85748a272d7d"
      },
      "source": [
        "\n",
        "trainFeatures = trainDataset.copy()\n",
        "testFeatures = testDataset.copy()\n",
        "\n",
        "print(trainFeatures.head())\n",
        "print(testFeatures.head())"
      ],
      "execution_count": null,
      "outputs": [
        {
          "output_type": "stream",
          "text": [
            "     SOP  CGPA\n",
            "132  3.5  8.56\n",
            "309  3.5  8.60\n",
            "341  3.5  8.76\n",
            "196  3.0  8.26\n",
            "246  3.0  8.73\n",
            "    SOP  CGPA\n",
            "9   3.5   8.6\n",
            "25  4.5   9.6\n",
            "28  2.0   7.2\n",
            "31  4.0   8.3\n",
            "32  3.0   9.4\n"
          ],
          "name": "stdout"
        }
      ]
    },
    {
      "cell_type": "code",
      "metadata": {
        "colab": {
          "base_uri": "https://localhost:8080/"
        },
        "id": "AhRDYioLuhAX",
        "outputId": "f902babb-ee1f-4f14-a8b9-dc1674061ca1"
      },
      "source": [
        "trainLabels = trainFeatures.pop('CGPA')\n",
        "testLabels = testFeatures.pop('CGPA')\n",
        "\n",
        "print(trainLabels.head())\n",
        "print(testLabels.head())"
      ],
      "execution_count": null,
      "outputs": [
        {
          "output_type": "stream",
          "text": [
            "132    8.56\n",
            "309    8.60\n",
            "341    8.76\n",
            "196    8.26\n",
            "246    8.73\n",
            "Name: CGPA, dtype: float64\n",
            "9     8.6\n",
            "25    9.6\n",
            "28    7.2\n",
            "31    8.3\n",
            "32    9.4\n",
            "Name: CGPA, dtype: float64\n"
          ],
          "name": "stdout"
        }
      ]
    },
    {
      "cell_type": "code",
      "metadata": {
        "colab": {
          "base_uri": "https://localhost:8080/"
        },
        "id": "Q3chJ0W5uuc_",
        "outputId": "bc84aae5-2de9-4cda-f7d1-fd49244aafab"
      },
      "source": [
        "print(trainFeatures.head())\n",
        "print(testFeatures.head())"
      ],
      "execution_count": null,
      "outputs": [
        {
          "output_type": "stream",
          "text": [
            "     SOP\n",
            "132  3.5\n",
            "309  3.5\n",
            "341  3.5\n",
            "196  3.0\n",
            "246  3.0\n",
            "    SOP\n",
            "9   3.5\n",
            "25  4.5\n",
            "28  2.0\n",
            "31  4.0\n",
            "32  3.0\n"
          ],
          "name": "stdout"
        }
      ]
    },
    {
      "cell_type": "code",
      "metadata": {
        "id": "k08jttw6uwMn"
      },
      "source": [
        "model = tf.keras.Sequential([\n",
        "                             tf.keras.layers.Dense(1)\n",
        "\n",
        "])"
      ],
      "execution_count": null,
      "outputs": []
    },
    {
      "cell_type": "code",
      "metadata": {
        "id": "QLcML7nZu4D_"
      },
      "source": [
        "model.compile(\n",
        "    loss = 'mean_absolute_error', \n",
        "    optimizer = tf.keras.optimizers.Adam(0.001), \n",
        "    metrics = ['mae', 'mse'] \n",
        ")"
      ],
      "execution_count": null,
      "outputs": []
    },
    {
      "cell_type": "code",
      "metadata": {
        "colab": {
          "base_uri": "https://localhost:8080/"
        },
        "id": "3m_AoQa3u_iB",
        "outputId": "2f90d11b-363f-4b11-8b79-465207c70d93"
      },
      "source": [
        "numEpochs = 500\n",
        "history = model.fit(x = trainFeatures, y = trainLabels, validation_data = (testFeatures, testLabels), epochs = numEpochs)"
      ],
      "execution_count": null,
      "outputs": [
        {
          "output_type": "stream",
          "text": [
            "Epoch 1/500\n",
            "10/10 [==============================] - 1s 21ms/step - loss: 6.3411 - mae: 6.3411 - mse: 40.4139 - val_loss: 6.2907 - val_mae: 6.2907 - val_mse: 39.9084\n",
            "Epoch 2/500\n",
            "10/10 [==============================] - 0s 4ms/step - loss: 6.2974 - mae: 6.2974 - mse: 39.8669 - val_loss: 6.2457 - val_mae: 6.2457 - val_mse: 39.3504\n",
            "Epoch 3/500\n",
            "10/10 [==============================] - 0s 4ms/step - loss: 6.2539 - mae: 6.2539 - mse: 39.3248 - val_loss: 6.2006 - val_mae: 6.2006 - val_mse: 38.7960\n",
            "Epoch 4/500\n",
            "10/10 [==============================] - 0s 4ms/step - loss: 6.2099 - mae: 6.2099 - mse: 38.7804 - val_loss: 6.1558 - val_mae: 6.1558 - val_mse: 38.2485\n",
            "Epoch 5/500\n",
            "10/10 [==============================] - 0s 4ms/step - loss: 6.1666 - mae: 6.1666 - mse: 38.2498 - val_loss: 6.1106 - val_mae: 6.1106 - val_mse: 37.7019\n",
            "Epoch 6/500\n",
            "10/10 [==============================] - 0s 4ms/step - loss: 6.1226 - mae: 6.1226 - mse: 37.7149 - val_loss: 6.0658 - val_mae: 6.0658 - val_mse: 37.1632\n",
            "Epoch 7/500\n",
            "10/10 [==============================] - 0s 3ms/step - loss: 6.0792 - mae: 6.0792 - mse: 37.1916 - val_loss: 6.0207 - val_mae: 6.0207 - val_mse: 36.6256\n",
            "Epoch 8/500\n",
            "10/10 [==============================] - 0s 4ms/step - loss: 6.0352 - mae: 6.0352 - mse: 36.6645 - val_loss: 5.9758 - val_mae: 5.9758 - val_mse: 36.0953\n",
            "Epoch 9/500\n",
            "10/10 [==============================] - 0s 4ms/step - loss: 5.9917 - mae: 5.9917 - mse: 36.1454 - val_loss: 5.9308 - val_mae: 5.9308 - val_mse: 35.5671\n",
            "Epoch 10/500\n",
            "10/10 [==============================] - 0s 4ms/step - loss: 5.9481 - mae: 5.9481 - mse: 35.6318 - val_loss: 5.8857 - val_mae: 5.8857 - val_mse: 35.0429\n",
            "Epoch 11/500\n",
            "10/10 [==============================] - 0s 4ms/step - loss: 5.9044 - mae: 5.9044 - mse: 35.1199 - val_loss: 5.8406 - val_mae: 5.8406 - val_mse: 34.5223\n",
            "Epoch 12/500\n",
            "10/10 [==============================] - 0s 4ms/step - loss: 5.8605 - mae: 5.8605 - mse: 34.6108 - val_loss: 5.7957 - val_mae: 5.7957 - val_mse: 34.0087\n",
            "Epoch 13/500\n",
            "10/10 [==============================] - 0s 3ms/step - loss: 5.8169 - mae: 5.8169 - mse: 34.1085 - val_loss: 5.7507 - val_mae: 5.7507 - val_mse: 33.4979\n",
            "Epoch 14/500\n",
            "10/10 [==============================] - 0s 4ms/step - loss: 5.7732 - mae: 5.7732 - mse: 33.6074 - val_loss: 5.7057 - val_mae: 5.7057 - val_mse: 32.9913\n",
            "Epoch 15/500\n",
            "10/10 [==============================] - 0s 4ms/step - loss: 5.7296 - mae: 5.7296 - mse: 33.1138 - val_loss: 5.6606 - val_mae: 5.6606 - val_mse: 32.4888\n",
            "Epoch 16/500\n",
            "10/10 [==============================] - 0s 4ms/step - loss: 5.6858 - mae: 5.6858 - mse: 32.6215 - val_loss: 5.6156 - val_mae: 5.6156 - val_mse: 31.9910\n",
            "Epoch 17/500\n",
            "10/10 [==============================] - 0s 3ms/step - loss: 5.6424 - mae: 5.6424 - mse: 32.1358 - val_loss: 5.5704 - val_mae: 5.5704 - val_mse: 31.4955\n",
            "Epoch 18/500\n",
            "10/10 [==============================] - 0s 5ms/step - loss: 5.5985 - mae: 5.5985 - mse: 31.6507 - val_loss: 5.5254 - val_mae: 5.5254 - val_mse: 31.0062\n",
            "Epoch 19/500\n",
            "10/10 [==============================] - 0s 4ms/step - loss: 5.5546 - mae: 5.5546 - mse: 31.1702 - val_loss: 5.4806 - val_mae: 5.4806 - val_mse: 30.5229\n",
            "Epoch 20/500\n",
            "10/10 [==============================] - 0s 3ms/step - loss: 5.5110 - mae: 5.5110 - mse: 30.6956 - val_loss: 5.4357 - val_mae: 5.4357 - val_mse: 30.0430\n",
            "Epoch 21/500\n",
            "10/10 [==============================] - 0s 4ms/step - loss: 5.4675 - mae: 5.4675 - mse: 30.2255 - val_loss: 5.3906 - val_mae: 5.3906 - val_mse: 29.5657\n",
            "Epoch 22/500\n",
            "10/10 [==============================] - 0s 4ms/step - loss: 5.4238 - mae: 5.4238 - mse: 29.7586 - val_loss: 5.3455 - val_mae: 5.3455 - val_mse: 29.0926\n",
            "Epoch 23/500\n",
            "10/10 [==============================] - 0s 5ms/step - loss: 5.3799 - mae: 5.3799 - mse: 29.2937 - val_loss: 5.3006 - val_mae: 5.3006 - val_mse: 28.6259\n",
            "Epoch 24/500\n",
            "10/10 [==============================] - 0s 4ms/step - loss: 5.3365 - mae: 5.3365 - mse: 28.8363 - val_loss: 5.2554 - val_mae: 5.2554 - val_mse: 28.1610\n",
            "Epoch 25/500\n",
            "10/10 [==============================] - 0s 4ms/step - loss: 5.2927 - mae: 5.2927 - mse: 28.3799 - val_loss: 5.2104 - val_mae: 5.2104 - val_mse: 27.7015\n",
            "Epoch 26/500\n",
            "10/10 [==============================] - 0s 5ms/step - loss: 5.2489 - mae: 5.2489 - mse: 27.9281 - val_loss: 5.1655 - val_mae: 5.1655 - val_mse: 27.2469\n",
            "Epoch 27/500\n",
            "10/10 [==============================] - 0s 4ms/step - loss: 5.2053 - mae: 5.2053 - mse: 27.4813 - val_loss: 5.1204 - val_mae: 5.1204 - val_mse: 26.7954\n",
            "Epoch 28/500\n",
            "10/10 [==============================] - 0s 4ms/step - loss: 5.1617 - mae: 5.1617 - mse: 27.0377 - val_loss: 5.0752 - val_mae: 5.0752 - val_mse: 26.3475\n",
            "Epoch 29/500\n",
            "10/10 [==============================] - 0s 5ms/step - loss: 5.1178 - mae: 5.1178 - mse: 26.5976 - val_loss: 5.0303 - val_mae: 5.0303 - val_mse: 25.9064\n",
            "Epoch 30/500\n",
            "10/10 [==============================] - 0s 4ms/step - loss: 5.0741 - mae: 5.0741 - mse: 26.1628 - val_loss: 4.9854 - val_mae: 4.9854 - val_mse: 25.4691\n",
            "Epoch 31/500\n",
            "10/10 [==============================] - 0s 5ms/step - loss: 5.0306 - mae: 5.0306 - mse: 25.7312 - val_loss: 4.9403 - val_mae: 4.9403 - val_mse: 25.0349\n",
            "Epoch 32/500\n",
            "10/10 [==============================] - 0s 5ms/step - loss: 4.9867 - mae: 4.9867 - mse: 25.3035 - val_loss: 4.8954 - val_mae: 4.8954 - val_mse: 24.6065\n",
            "Epoch 33/500\n",
            "10/10 [==============================] - 0s 4ms/step - loss: 4.9431 - mae: 4.9431 - mse: 24.8818 - val_loss: 4.8504 - val_mae: 4.8504 - val_mse: 24.1813\n",
            "Epoch 34/500\n",
            "10/10 [==============================] - 0s 7ms/step - loss: 4.8995 - mae: 4.8995 - mse: 24.4618 - val_loss: 4.8054 - val_mae: 4.8054 - val_mse: 23.7601\n",
            "Epoch 35/500\n",
            "10/10 [==============================] - 0s 4ms/step - loss: 4.8556 - mae: 4.8556 - mse: 24.0473 - val_loss: 4.7605 - val_mae: 4.7605 - val_mse: 23.3446\n",
            "Epoch 36/500\n",
            "10/10 [==============================] - 0s 4ms/step - loss: 4.8122 - mae: 4.8122 - mse: 23.6366 - val_loss: 4.7153 - val_mae: 4.7153 - val_mse: 22.9310\n",
            "Epoch 37/500\n",
            "10/10 [==============================] - 0s 4ms/step - loss: 4.7684 - mae: 4.7684 - mse: 23.2288 - val_loss: 4.6702 - val_mae: 4.6702 - val_mse: 22.5221\n",
            "Epoch 38/500\n",
            "10/10 [==============================] - 0s 4ms/step - loss: 4.7245 - mae: 4.7245 - mse: 22.8246 - val_loss: 4.6253 - val_mae: 4.6253 - val_mse: 22.1197\n",
            "Epoch 39/500\n",
            "10/10 [==============================] - 0s 4ms/step - loss: 4.6812 - mae: 4.6812 - mse: 22.4261 - val_loss: 4.5801 - val_mae: 4.5801 - val_mse: 21.7182\n",
            "Epoch 40/500\n",
            "10/10 [==============================] - 0s 4ms/step - loss: 4.6373 - mae: 4.6373 - mse: 22.0306 - val_loss: 4.5351 - val_mae: 4.5351 - val_mse: 21.3230\n",
            "Epoch 41/500\n",
            "10/10 [==============================] - 0s 4ms/step - loss: 4.5934 - mae: 4.5934 - mse: 21.6385 - val_loss: 4.4902 - val_mae: 4.4902 - val_mse: 20.9333\n",
            "Epoch 42/500\n",
            "10/10 [==============================] - 0s 6ms/step - loss: 4.5498 - mae: 4.5498 - mse: 21.2529 - val_loss: 4.4452 - val_mae: 4.4452 - val_mse: 20.5469\n",
            "Epoch 43/500\n",
            "10/10 [==============================] - 0s 4ms/step - loss: 4.5063 - mae: 4.5063 - mse: 20.8691 - val_loss: 4.4001 - val_mae: 4.4001 - val_mse: 20.1634\n",
            "Epoch 44/500\n",
            "10/10 [==============================] - 0s 4ms/step - loss: 4.4625 - mae: 4.4625 - mse: 20.4892 - val_loss: 4.3551 - val_mae: 4.3551 - val_mse: 19.7855\n",
            "Epoch 45/500\n",
            "10/10 [==============================] - 0s 4ms/step - loss: 4.4188 - mae: 4.4188 - mse: 20.1140 - val_loss: 4.3100 - val_mae: 4.3100 - val_mse: 19.4115\n",
            "Epoch 46/500\n",
            "10/10 [==============================] - 0s 4ms/step - loss: 4.3751 - mae: 4.3751 - mse: 19.7429 - val_loss: 4.2650 - val_mae: 4.2650 - val_mse: 19.0420\n",
            "Epoch 47/500\n",
            "10/10 [==============================] - 0s 4ms/step - loss: 4.3315 - mae: 4.3315 - mse: 19.3753 - val_loss: 4.2199 - val_mae: 4.2199 - val_mse: 18.6764\n",
            "Epoch 48/500\n",
            "10/10 [==============================] - 0s 6ms/step - loss: 4.2876 - mae: 4.2876 - mse: 19.0132 - val_loss: 4.1751 - val_mae: 4.1751 - val_mse: 18.3168\n",
            "Epoch 49/500\n",
            "10/10 [==============================] - 0s 4ms/step - loss: 4.2442 - mae: 4.2442 - mse: 18.6550 - val_loss: 4.1299 - val_mae: 4.1299 - val_mse: 17.9588\n",
            "Epoch 50/500\n",
            "10/10 [==============================] - 0s 4ms/step - loss: 4.2005 - mae: 4.2005 - mse: 18.2977 - val_loss: 4.0847 - val_mae: 4.0847 - val_mse: 17.6052\n",
            "Epoch 51/500\n",
            "10/10 [==============================] - 0s 4ms/step - loss: 4.1564 - mae: 4.1564 - mse: 17.9461 - val_loss: 4.0399 - val_mae: 4.0399 - val_mse: 17.2588\n",
            "Epoch 52/500\n",
            "10/10 [==============================] - 0s 3ms/step - loss: 4.1130 - mae: 4.1130 - mse: 17.5999 - val_loss: 3.9949 - val_mae: 3.9949 - val_mse: 16.9149\n",
            "Epoch 53/500\n",
            "10/10 [==============================] - 0s 4ms/step - loss: 4.0692 - mae: 4.0692 - mse: 17.2589 - val_loss: 3.9499 - val_mae: 3.9499 - val_mse: 16.5756\n",
            "Epoch 54/500\n",
            "10/10 [==============================] - 0s 4ms/step - loss: 4.0256 - mae: 4.0256 - mse: 16.9191 - val_loss: 3.9049 - val_mae: 3.9049 - val_mse: 16.2402\n",
            "Epoch 55/500\n",
            "10/10 [==============================] - 0s 4ms/step - loss: 3.9818 - mae: 3.9818 - mse: 16.5835 - val_loss: 3.8599 - val_mae: 3.8599 - val_mse: 15.9096\n",
            "Epoch 56/500\n",
            "10/10 [==============================] - 0s 5ms/step - loss: 3.9382 - mae: 3.9382 - mse: 16.2536 - val_loss: 3.8149 - val_mae: 3.8149 - val_mse: 15.5829\n",
            "Epoch 57/500\n",
            "10/10 [==============================] - 0s 4ms/step - loss: 3.8947 - mae: 3.8947 - mse: 15.9256 - val_loss: 3.7697 - val_mae: 3.7697 - val_mse: 15.2591\n",
            "Epoch 58/500\n",
            "10/10 [==============================] - 0s 4ms/step - loss: 3.8509 - mae: 3.8509 - mse: 15.6022 - val_loss: 3.7246 - val_mae: 3.7246 - val_mse: 14.9405\n",
            "Epoch 59/500\n",
            "10/10 [==============================] - 0s 4ms/step - loss: 3.8069 - mae: 3.8069 - mse: 15.2831 - val_loss: 3.6798 - val_mae: 3.6798 - val_mse: 14.6282\n",
            "Epoch 60/500\n",
            "10/10 [==============================] - 0s 4ms/step - loss: 3.7634 - mae: 3.7634 - mse: 14.9678 - val_loss: 3.6348 - val_mae: 3.6348 - val_mse: 14.3187\n",
            "Epoch 61/500\n",
            "10/10 [==============================] - 0s 5ms/step - loss: 3.7198 - mae: 3.7198 - mse: 14.6578 - val_loss: 3.5898 - val_mae: 3.5898 - val_mse: 14.0132\n",
            "Epoch 62/500\n",
            "10/10 [==============================] - 0s 5ms/step - loss: 3.6761 - mae: 3.6761 - mse: 14.3498 - val_loss: 3.5447 - val_mae: 3.5447 - val_mse: 13.7117\n",
            "Epoch 63/500\n",
            "10/10 [==============================] - 0s 4ms/step - loss: 3.6322 - mae: 3.6322 - mse: 14.0486 - val_loss: 3.4998 - val_mae: 3.4998 - val_mse: 13.4160\n",
            "Epoch 64/500\n",
            "10/10 [==============================] - 0s 4ms/step - loss: 3.5887 - mae: 3.5887 - mse: 13.7492 - val_loss: 3.4547 - val_mae: 3.4547 - val_mse: 13.1230\n",
            "Epoch 65/500\n",
            "10/10 [==============================] - 0s 5ms/step - loss: 3.5450 - mae: 3.5450 - mse: 13.4532 - val_loss: 3.4097 - val_mae: 3.4097 - val_mse: 12.8346\n",
            "Epoch 66/500\n",
            "10/10 [==============================] - 0s 4ms/step - loss: 3.5013 - mae: 3.5013 - mse: 13.1637 - val_loss: 3.3646 - val_mae: 3.3646 - val_mse: 12.5507\n",
            "Epoch 67/500\n",
            "10/10 [==============================] - 0s 4ms/step - loss: 3.4576 - mae: 3.4576 - mse: 12.8760 - val_loss: 3.3196 - val_mae: 3.3196 - val_mse: 12.2708\n",
            "Epoch 68/500\n",
            "10/10 [==============================] - 0s 4ms/step - loss: 3.4138 - mae: 3.4138 - mse: 12.5936 - val_loss: 3.2746 - val_mae: 3.2746 - val_mse: 11.9960\n",
            "Epoch 69/500\n",
            "10/10 [==============================] - 0s 4ms/step - loss: 3.3702 - mae: 3.3702 - mse: 12.3158 - val_loss: 3.2296 - val_mae: 3.2296 - val_mse: 11.7250\n",
            "Epoch 70/500\n",
            "10/10 [==============================] - 0s 4ms/step - loss: 3.3265 - mae: 3.3265 - mse: 12.0414 - val_loss: 3.1846 - val_mae: 3.1846 - val_mse: 11.4583\n",
            "Epoch 71/500\n",
            "10/10 [==============================] - 0s 5ms/step - loss: 3.2828 - mae: 3.2828 - mse: 11.7709 - val_loss: 3.1396 - val_mae: 3.1396 - val_mse: 11.1959\n",
            "Epoch 72/500\n",
            "10/10 [==============================] - 0s 5ms/step - loss: 3.2391 - mae: 3.2391 - mse: 11.5031 - val_loss: 3.0946 - val_mae: 3.0946 - val_mse: 10.9377\n",
            "Epoch 73/500\n",
            "10/10 [==============================] - 0s 4ms/step - loss: 3.1955 - mae: 3.1955 - mse: 11.2396 - val_loss: 3.0498 - val_mae: 3.0498 - val_mse: 10.6831\n",
            "Epoch 74/500\n",
            "10/10 [==============================] - 0s 4ms/step - loss: 3.1515 - mae: 3.1515 - mse: 10.9805 - val_loss: 3.0064 - val_mae: 3.0064 - val_mse: 10.4343\n",
            "Epoch 75/500\n",
            "10/10 [==============================] - 0s 4ms/step - loss: 3.1081 - mae: 3.1081 - mse: 10.7246 - val_loss: 2.9628 - val_mae: 2.9628 - val_mse: 10.1884\n",
            "Epoch 76/500\n",
            "10/10 [==============================] - 0s 5ms/step - loss: 3.0644 - mae: 3.0644 - mse: 10.4740 - val_loss: 2.9192 - val_mae: 2.9192 - val_mse: 9.9469\n",
            "Epoch 77/500\n",
            "10/10 [==============================] - 0s 5ms/step - loss: 3.0206 - mae: 3.0206 - mse: 10.2266 - val_loss: 2.8757 - val_mae: 2.8757 - val_mse: 9.7102\n",
            "Epoch 78/500\n",
            "10/10 [==============================] - 0s 4ms/step - loss: 2.9770 - mae: 2.9770 - mse: 9.9844 - val_loss: 2.8321 - val_mae: 2.8321 - val_mse: 9.4773\n",
            "Epoch 79/500\n",
            "10/10 [==============================] - 0s 4ms/step - loss: 2.9330 - mae: 2.9330 - mse: 9.7477 - val_loss: 2.7888 - val_mae: 2.7888 - val_mse: 9.2501\n",
            "Epoch 80/500\n",
            "10/10 [==============================] - 0s 4ms/step - loss: 2.8896 - mae: 2.8896 - mse: 9.5126 - val_loss: 2.7451 - val_mae: 2.7451 - val_mse: 9.0256\n",
            "Epoch 81/500\n",
            "10/10 [==============================] - 0s 4ms/step - loss: 2.8457 - mae: 2.8457 - mse: 9.2824 - val_loss: 2.7017 - val_mae: 2.7017 - val_mse: 8.8066\n",
            "Epoch 82/500\n",
            "10/10 [==============================] - 0s 5ms/step - loss: 2.8021 - mae: 2.8021 - mse: 9.0553 - val_loss: 2.6583 - val_mae: 2.6583 - val_mse: 8.5916\n",
            "Epoch 83/500\n",
            "10/10 [==============================] - 0s 4ms/step - loss: 2.7585 - mae: 2.7585 - mse: 8.8332 - val_loss: 2.6147 - val_mae: 2.6147 - val_mse: 8.3802\n",
            "Epoch 84/500\n",
            "10/10 [==============================] - 0s 4ms/step - loss: 2.7151 - mae: 2.7151 - mse: 8.6127 - val_loss: 2.5709 - val_mae: 2.5709 - val_mse: 8.1719\n",
            "Epoch 85/500\n",
            "10/10 [==============================] - 0s 5ms/step - loss: 2.6709 - mae: 2.6709 - mse: 8.3992 - val_loss: 2.5275 - val_mae: 2.5275 - val_mse: 7.9699\n",
            "Epoch 86/500\n",
            "10/10 [==============================] - 0s 4ms/step - loss: 2.6274 - mae: 2.6274 - mse: 8.1870 - val_loss: 2.4839 - val_mae: 2.4839 - val_mse: 7.7714\n",
            "Epoch 87/500\n",
            "10/10 [==============================] - 0s 4ms/step - loss: 2.5837 - mae: 2.5837 - mse: 7.9832 - val_loss: 2.4407 - val_mae: 2.4407 - val_mse: 7.5790\n",
            "Epoch 88/500\n",
            "10/10 [==============================] - 0s 4ms/step - loss: 2.5409 - mae: 2.5409 - mse: 7.7805 - val_loss: 2.3974 - val_mae: 2.3974 - val_mse: 7.3901\n",
            "Epoch 89/500\n",
            "10/10 [==============================] - 0s 4ms/step - loss: 2.4978 - mae: 2.4978 - mse: 7.5834 - val_loss: 2.3542 - val_mae: 2.3542 - val_mse: 7.2062\n",
            "Epoch 90/500\n",
            "10/10 [==============================] - 0s 4ms/step - loss: 2.4551 - mae: 2.4551 - mse: 7.3889 - val_loss: 2.3121 - val_mae: 2.3121 - val_mse: 7.0266\n",
            "Epoch 91/500\n",
            "10/10 [==============================] - 0s 4ms/step - loss: 2.4125 - mae: 2.4125 - mse: 7.2023 - val_loss: 2.2708 - val_mae: 2.2708 - val_mse: 6.8526\n",
            "Epoch 92/500\n",
            "10/10 [==============================] - 0s 5ms/step - loss: 2.3702 - mae: 2.3702 - mse: 7.0191 - val_loss: 2.2298 - val_mae: 2.2298 - val_mse: 6.6841\n",
            "Epoch 93/500\n",
            "10/10 [==============================] - 0s 5ms/step - loss: 2.3289 - mae: 2.3289 - mse: 6.8413 - val_loss: 2.1886 - val_mae: 2.1886 - val_mse: 6.5187\n",
            "Epoch 94/500\n",
            "10/10 [==============================] - 0s 5ms/step - loss: 2.2871 - mae: 2.2871 - mse: 6.6648 - val_loss: 2.1476 - val_mae: 2.1476 - val_mse: 6.3583\n",
            "Epoch 95/500\n",
            "10/10 [==============================] - 0s 6ms/step - loss: 2.2458 - mae: 2.2458 - mse: 6.4929 - val_loss: 2.1074 - val_mae: 2.1074 - val_mse: 6.2008\n",
            "Epoch 96/500\n",
            "10/10 [==============================] - 0s 4ms/step - loss: 2.2039 - mae: 2.2039 - mse: 6.3270 - val_loss: 2.0683 - val_mae: 2.0683 - val_mse: 6.0486\n",
            "Epoch 97/500\n",
            "10/10 [==============================] - 0s 4ms/step - loss: 2.1621 - mae: 2.1621 - mse: 6.1659 - val_loss: 2.0304 - val_mae: 2.0304 - val_mse: 5.9015\n",
            "Epoch 98/500\n",
            "10/10 [==============================] - 0s 4ms/step - loss: 2.1229 - mae: 2.1229 - mse: 6.0042 - val_loss: 1.9930 - val_mae: 1.9930 - val_mse: 5.7584\n",
            "Epoch 99/500\n",
            "10/10 [==============================] - 0s 5ms/step - loss: 2.0836 - mae: 2.0836 - mse: 5.8521 - val_loss: 1.9579 - val_mae: 1.9579 - val_mse: 5.6244\n",
            "Epoch 100/500\n",
            "10/10 [==============================] - 0s 5ms/step - loss: 2.0468 - mae: 2.0468 - mse: 5.7085 - val_loss: 1.9245 - val_mae: 1.9245 - val_mse: 5.4944\n",
            "Epoch 101/500\n",
            "10/10 [==============================] - 0s 4ms/step - loss: 2.0106 - mae: 2.0106 - mse: 5.5678 - val_loss: 1.8941 - val_mae: 1.8941 - val_mse: 5.3714\n",
            "Epoch 102/500\n",
            "10/10 [==============================] - 0s 5ms/step - loss: 1.9763 - mae: 1.9763 - mse: 5.4346 - val_loss: 1.8644 - val_mae: 1.8644 - val_mse: 5.2538\n",
            "Epoch 103/500\n",
            "10/10 [==============================] - 0s 6ms/step - loss: 1.9439 - mae: 1.9439 - mse: 5.3093 - val_loss: 1.8364 - val_mae: 1.8364 - val_mse: 5.1418\n",
            "Epoch 104/500\n",
            "10/10 [==============================] - 0s 4ms/step - loss: 1.9122 - mae: 1.9122 - mse: 5.1859 - val_loss: 1.8099 - val_mae: 1.8099 - val_mse: 5.0351\n",
            "Epoch 105/500\n",
            "10/10 [==============================] - 0s 5ms/step - loss: 1.8817 - mae: 1.8817 - mse: 5.0689 - val_loss: 1.7858 - val_mae: 1.7858 - val_mse: 4.9349\n",
            "Epoch 106/500\n",
            "10/10 [==============================] - 0s 4ms/step - loss: 1.8538 - mae: 1.8538 - mse: 4.9602 - val_loss: 1.7621 - val_mae: 1.7621 - val_mse: 4.8395\n",
            "Epoch 107/500\n",
            "10/10 [==============================] - 0s 4ms/step - loss: 1.8263 - mae: 1.8263 - mse: 4.8521 - val_loss: 1.7389 - val_mae: 1.7389 - val_mse: 4.7485\n",
            "Epoch 108/500\n",
            "10/10 [==============================] - 0s 4ms/step - loss: 1.8002 - mae: 1.8002 - mse: 4.7506 - val_loss: 1.7164 - val_mae: 1.7164 - val_mse: 4.6597\n",
            "Epoch 109/500\n",
            "10/10 [==============================] - 0s 5ms/step - loss: 1.7751 - mae: 1.7751 - mse: 4.6517 - val_loss: 1.6951 - val_mae: 1.6951 - val_mse: 4.5771\n",
            "Epoch 110/500\n",
            "10/10 [==============================] - 0s 5ms/step - loss: 1.7519 - mae: 1.7519 - mse: 4.5608 - val_loss: 1.6751 - val_mae: 1.6751 - val_mse: 4.4994\n",
            "Epoch 111/500\n",
            "10/10 [==============================] - 0s 5ms/step - loss: 1.7304 - mae: 1.7304 - mse: 4.4744 - val_loss: 1.6566 - val_mae: 1.6566 - val_mse: 4.4277\n",
            "Epoch 112/500\n",
            "10/10 [==============================] - 0s 6ms/step - loss: 1.7104 - mae: 1.7104 - mse: 4.3934 - val_loss: 1.6393 - val_mae: 1.6393 - val_mse: 4.3595\n",
            "Epoch 113/500\n",
            "10/10 [==============================] - 0s 6ms/step - loss: 1.6910 - mae: 1.6910 - mse: 4.3146 - val_loss: 1.6240 - val_mae: 1.6240 - val_mse: 4.2939\n",
            "Epoch 114/500\n",
            "10/10 [==============================] - 0s 7ms/step - loss: 1.6718 - mae: 1.6718 - mse: 4.2383 - val_loss: 1.6092 - val_mae: 1.6092 - val_mse: 4.2317\n",
            "Epoch 115/500\n",
            "10/10 [==============================] - 0s 4ms/step - loss: 1.6534 - mae: 1.6534 - mse: 4.1664 - val_loss: 1.5955 - val_mae: 1.5955 - val_mse: 4.1726\n",
            "Epoch 116/500\n",
            "10/10 [==============================] - 0s 4ms/step - loss: 1.6359 - mae: 1.6359 - mse: 4.0966 - val_loss: 1.5821 - val_mae: 1.5821 - val_mse: 4.1158\n",
            "Epoch 117/500\n",
            "10/10 [==============================] - 0s 5ms/step - loss: 1.6194 - mae: 1.6194 - mse: 4.0296 - val_loss: 1.5694 - val_mae: 1.5694 - val_mse: 4.0609\n",
            "Epoch 118/500\n",
            "10/10 [==============================] - 0s 4ms/step - loss: 1.6030 - mae: 1.6030 - mse: 3.9662 - val_loss: 1.5576 - val_mae: 1.5576 - val_mse: 4.0115\n",
            "Epoch 119/500\n",
            "10/10 [==============================] - 0s 5ms/step - loss: 1.5897 - mae: 1.5897 - mse: 3.9076 - val_loss: 1.5467 - val_mae: 1.5467 - val_mse: 3.9653\n",
            "Epoch 120/500\n",
            "10/10 [==============================] - 0s 4ms/step - loss: 1.5767 - mae: 1.5767 - mse: 3.8539 - val_loss: 1.5371 - val_mae: 1.5371 - val_mse: 3.9233\n",
            "Epoch 121/500\n",
            "10/10 [==============================] - 0s 4ms/step - loss: 1.5651 - mae: 1.5651 - mse: 3.8021 - val_loss: 1.5280 - val_mae: 1.5280 - val_mse: 3.8827\n",
            "Epoch 122/500\n",
            "10/10 [==============================] - 0s 4ms/step - loss: 1.5545 - mae: 1.5545 - mse: 3.7536 - val_loss: 1.5186 - val_mae: 1.5186 - val_mse: 3.8427\n",
            "Epoch 123/500\n",
            "10/10 [==============================] - 0s 5ms/step - loss: 1.5433 - mae: 1.5433 - mse: 3.7042 - val_loss: 1.5099 - val_mae: 1.5099 - val_mse: 3.8063\n",
            "Epoch 124/500\n",
            "10/10 [==============================] - 0s 4ms/step - loss: 1.5327 - mae: 1.5327 - mse: 3.6600 - val_loss: 1.5017 - val_mae: 1.5017 - val_mse: 3.7724\n",
            "Epoch 125/500\n",
            "10/10 [==============================] - 0s 4ms/step - loss: 1.5231 - mae: 1.5231 - mse: 3.6173 - val_loss: 1.4937 - val_mae: 1.4937 - val_mse: 3.7387\n",
            "Epoch 126/500\n",
            "10/10 [==============================] - 0s 4ms/step - loss: 1.5134 - mae: 1.5134 - mse: 3.5764 - val_loss: 1.4860 - val_mae: 1.4860 - val_mse: 3.7071\n",
            "Epoch 127/500\n",
            "10/10 [==============================] - 0s 5ms/step - loss: 1.5048 - mae: 1.5048 - mse: 3.5367 - val_loss: 1.4781 - val_mae: 1.4781 - val_mse: 3.6758\n",
            "Epoch 128/500\n",
            "10/10 [==============================] - 0s 4ms/step - loss: 1.4957 - mae: 1.4957 - mse: 3.4983 - val_loss: 1.4712 - val_mae: 1.4712 - val_mse: 3.6479\n",
            "Epoch 129/500\n",
            "10/10 [==============================] - 0s 5ms/step - loss: 1.4877 - mae: 1.4877 - mse: 3.4625 - val_loss: 1.4647 - val_mae: 1.4647 - val_mse: 3.6208\n",
            "Epoch 130/500\n",
            "10/10 [==============================] - 0s 5ms/step - loss: 1.4797 - mae: 1.4797 - mse: 3.4273 - val_loss: 1.4589 - val_mae: 1.4589 - val_mse: 3.5959\n",
            "Epoch 131/500\n",
            "10/10 [==============================] - 0s 5ms/step - loss: 1.4723 - mae: 1.4723 - mse: 3.3941 - val_loss: 1.4531 - val_mae: 1.4531 - val_mse: 3.5711\n",
            "Epoch 132/500\n",
            "10/10 [==============================] - 0s 7ms/step - loss: 1.4647 - mae: 1.4647 - mse: 3.3614 - val_loss: 1.4478 - val_mae: 1.4478 - val_mse: 3.5472\n",
            "Epoch 133/500\n",
            "10/10 [==============================] - 0s 4ms/step - loss: 1.4571 - mae: 1.4571 - mse: 3.3298 - val_loss: 1.4431 - val_mae: 1.4431 - val_mse: 3.5248\n",
            "Epoch 134/500\n",
            "10/10 [==============================] - 0s 4ms/step - loss: 1.4501 - mae: 1.4501 - mse: 3.2991 - val_loss: 1.4386 - val_mae: 1.4386 - val_mse: 3.5035\n",
            "Epoch 135/500\n",
            "10/10 [==============================] - 0s 5ms/step - loss: 1.4434 - mae: 1.4434 - mse: 3.2702 - val_loss: 1.4349 - val_mae: 1.4349 - val_mse: 3.4834\n",
            "Epoch 136/500\n",
            "10/10 [==============================] - 0s 5ms/step - loss: 1.4370 - mae: 1.4370 - mse: 3.2430 - val_loss: 1.4317 - val_mae: 1.4317 - val_mse: 3.4650\n",
            "Epoch 137/500\n",
            "10/10 [==============================] - 0s 4ms/step - loss: 1.4314 - mae: 1.4314 - mse: 3.2182 - val_loss: 1.4285 - val_mae: 1.4285 - val_mse: 3.4467\n",
            "Epoch 138/500\n",
            "10/10 [==============================] - 0s 6ms/step - loss: 1.4259 - mae: 1.4259 - mse: 3.1935 - val_loss: 1.4255 - val_mae: 1.4255 - val_mse: 3.4290\n",
            "Epoch 139/500\n",
            "10/10 [==============================] - 0s 5ms/step - loss: 1.4201 - mae: 1.4201 - mse: 3.1674 - val_loss: 1.4232 - val_mae: 1.4232 - val_mse: 3.4137\n",
            "Epoch 140/500\n",
            "10/10 [==============================] - 0s 5ms/step - loss: 1.4150 - mae: 1.4150 - mse: 3.1447 - val_loss: 1.4214 - val_mae: 1.4214 - val_mse: 3.3987\n",
            "Epoch 141/500\n",
            "10/10 [==============================] - 0s 5ms/step - loss: 1.4102 - mae: 1.4102 - mse: 3.1245 - val_loss: 1.4199 - val_mae: 1.4199 - val_mse: 3.3843\n",
            "Epoch 142/500\n",
            "10/10 [==============================] - 0s 4ms/step - loss: 1.4061 - mae: 1.4061 - mse: 3.1035 - val_loss: 1.4187 - val_mae: 1.4187 - val_mse: 3.3700\n",
            "Epoch 143/500\n",
            "10/10 [==============================] - 0s 5ms/step - loss: 1.4013 - mae: 1.4013 - mse: 3.0827 - val_loss: 1.4177 - val_mae: 1.4177 - val_mse: 3.3573\n",
            "Epoch 144/500\n",
            "10/10 [==============================] - 0s 4ms/step - loss: 1.3968 - mae: 1.3968 - mse: 3.0634 - val_loss: 1.4170 - val_mae: 1.4170 - val_mse: 3.3459\n",
            "Epoch 145/500\n",
            "10/10 [==============================] - 0s 4ms/step - loss: 1.3927 - mae: 1.3927 - mse: 3.0458 - val_loss: 1.4162 - val_mae: 1.4162 - val_mse: 3.3343\n",
            "Epoch 146/500\n",
            "10/10 [==============================] - 0s 4ms/step - loss: 1.3886 - mae: 1.3886 - mse: 3.0268 - val_loss: 1.4157 - val_mae: 1.4157 - val_mse: 3.3229\n",
            "Epoch 147/500\n",
            "10/10 [==============================] - 0s 4ms/step - loss: 1.3844 - mae: 1.3844 - mse: 3.0091 - val_loss: 1.4153 - val_mae: 1.4153 - val_mse: 3.3124\n",
            "Epoch 148/500\n",
            "10/10 [==============================] - 0s 5ms/step - loss: 1.3804 - mae: 1.3804 - mse: 2.9935 - val_loss: 1.4149 - val_mae: 1.4149 - val_mse: 3.3019\n",
            "Epoch 149/500\n",
            "10/10 [==============================] - 0s 4ms/step - loss: 1.3763 - mae: 1.3763 - mse: 2.9762 - val_loss: 1.4146 - val_mae: 1.4146 - val_mse: 3.2919\n",
            "Epoch 150/500\n",
            "10/10 [==============================] - 0s 4ms/step - loss: 1.3723 - mae: 1.3723 - mse: 2.9597 - val_loss: 1.4142 - val_mae: 1.4142 - val_mse: 3.2821\n",
            "Epoch 151/500\n",
            "10/10 [==============================] - 0s 4ms/step - loss: 1.3679 - mae: 1.3679 - mse: 2.9430 - val_loss: 1.4142 - val_mae: 1.4142 - val_mse: 3.2734\n",
            "Epoch 152/500\n",
            "10/10 [==============================] - 0s 4ms/step - loss: 1.3644 - mae: 1.3644 - mse: 2.9280 - val_loss: 1.4147 - val_mae: 1.4147 - val_mse: 3.2650\n",
            "Epoch 153/500\n",
            "10/10 [==============================] - 0s 4ms/step - loss: 1.3606 - mae: 1.3606 - mse: 2.9140 - val_loss: 1.4150 - val_mae: 1.4150 - val_mse: 3.2579\n",
            "Epoch 154/500\n",
            "10/10 [==============================] - 0s 4ms/step - loss: 1.3578 - mae: 1.3578 - mse: 2.9016 - val_loss: 1.4153 - val_mae: 1.4153 - val_mse: 3.2507\n",
            "Epoch 155/500\n",
            "10/10 [==============================] - 0s 4ms/step - loss: 1.3547 - mae: 1.3547 - mse: 2.8885 - val_loss: 1.4156 - val_mae: 1.4156 - val_mse: 3.2447\n",
            "Epoch 156/500\n",
            "10/10 [==============================] - 0s 3ms/step - loss: 1.3522 - mae: 1.3522 - mse: 2.8772 - val_loss: 1.4158 - val_mae: 1.4158 - val_mse: 3.2388\n",
            "Epoch 157/500\n",
            "10/10 [==============================] - 0s 4ms/step - loss: 1.3498 - mae: 1.3498 - mse: 2.8666 - val_loss: 1.4161 - val_mae: 1.4161 - val_mse: 3.2330\n",
            "Epoch 158/500\n",
            "10/10 [==============================] - 0s 4ms/step - loss: 1.3471 - mae: 1.3471 - mse: 2.8554 - val_loss: 1.4162 - val_mae: 1.4162 - val_mse: 3.2280\n",
            "Epoch 159/500\n",
            "10/10 [==============================] - 0s 5ms/step - loss: 1.3450 - mae: 1.3450 - mse: 2.8460 - val_loss: 1.4165 - val_mae: 1.4165 - val_mse: 3.2226\n",
            "Epoch 160/500\n",
            "10/10 [==============================] - 0s 4ms/step - loss: 1.3423 - mae: 1.3423 - mse: 2.8350 - val_loss: 1.4166 - val_mae: 1.4166 - val_mse: 3.2180\n",
            "Epoch 161/500\n",
            "10/10 [==============================] - 0s 4ms/step - loss: 1.3403 - mae: 1.3403 - mse: 2.8256 - val_loss: 1.4168 - val_mae: 1.4168 - val_mse: 3.2135\n",
            "Epoch 162/500\n",
            "10/10 [==============================] - 0s 5ms/step - loss: 1.3383 - mae: 1.3383 - mse: 2.8163 - val_loss: 1.4171 - val_mae: 1.4171 - val_mse: 3.2092\n",
            "Epoch 163/500\n",
            "10/10 [==============================] - 0s 5ms/step - loss: 1.3361 - mae: 1.3361 - mse: 2.8077 - val_loss: 1.4174 - val_mae: 1.4174 - val_mse: 3.2054\n",
            "Epoch 164/500\n",
            "10/10 [==============================] - 0s 4ms/step - loss: 1.3344 - mae: 1.3344 - mse: 2.7999 - val_loss: 1.4176 - val_mae: 1.4176 - val_mse: 3.2019\n",
            "Epoch 165/500\n",
            "10/10 [==============================] - 0s 4ms/step - loss: 1.3331 - mae: 1.3331 - mse: 2.7932 - val_loss: 1.4179 - val_mae: 1.4179 - val_mse: 3.1985\n",
            "Epoch 166/500\n",
            "10/10 [==============================] - 0s 4ms/step - loss: 1.3318 - mae: 1.3318 - mse: 2.7868 - val_loss: 1.4185 - val_mae: 1.4185 - val_mse: 3.1953\n",
            "Epoch 167/500\n",
            "10/10 [==============================] - 0s 4ms/step - loss: 1.3304 - mae: 1.3304 - mse: 2.7793 - val_loss: 1.4189 - val_mae: 1.4189 - val_mse: 3.1923\n",
            "Epoch 168/500\n",
            "10/10 [==============================] - 0s 4ms/step - loss: 1.3294 - mae: 1.3294 - mse: 2.7736 - val_loss: 1.4195 - val_mae: 1.4195 - val_mse: 3.1893\n",
            "Epoch 169/500\n",
            "10/10 [==============================] - 0s 4ms/step - loss: 1.3281 - mae: 1.3281 - mse: 2.7675 - val_loss: 1.4197 - val_mae: 1.4197 - val_mse: 3.1866\n",
            "Epoch 170/500\n",
            "10/10 [==============================] - 0s 4ms/step - loss: 1.3271 - mae: 1.3271 - mse: 2.7619 - val_loss: 1.4201 - val_mae: 1.4201 - val_mse: 3.1838\n",
            "Epoch 171/500\n",
            "10/10 [==============================] - 0s 4ms/step - loss: 1.3260 - mae: 1.3260 - mse: 2.7565 - val_loss: 1.4204 - val_mae: 1.4204 - val_mse: 3.1811\n",
            "Epoch 172/500\n",
            "10/10 [==============================] - 0s 4ms/step - loss: 1.3251 - mae: 1.3251 - mse: 2.7520 - val_loss: 1.4205 - val_mae: 1.4205 - val_mse: 3.1785\n",
            "Epoch 173/500\n",
            "10/10 [==============================] - 0s 6ms/step - loss: 1.3242 - mae: 1.3242 - mse: 2.7469 - val_loss: 1.4207 - val_mae: 1.4207 - val_mse: 3.1759\n",
            "Epoch 174/500\n",
            "10/10 [==============================] - 0s 5ms/step - loss: 1.3232 - mae: 1.3232 - mse: 2.7421 - val_loss: 1.4208 - val_mae: 1.4208 - val_mse: 3.1735\n",
            "Epoch 175/500\n",
            "10/10 [==============================] - 0s 4ms/step - loss: 1.3224 - mae: 1.3224 - mse: 2.7374 - val_loss: 1.4210 - val_mae: 1.4210 - val_mse: 3.1710\n",
            "Epoch 176/500\n",
            "10/10 [==============================] - 0s 4ms/step - loss: 1.3216 - mae: 1.3216 - mse: 2.7330 - val_loss: 1.4211 - val_mae: 1.4211 - val_mse: 3.1685\n",
            "Epoch 177/500\n",
            "10/10 [==============================] - 0s 4ms/step - loss: 1.3206 - mae: 1.3206 - mse: 2.7284 - val_loss: 1.4211 - val_mae: 1.4211 - val_mse: 3.1662\n",
            "Epoch 178/500\n",
            "10/10 [==============================] - 0s 4ms/step - loss: 1.3199 - mae: 1.3199 - mse: 2.7242 - val_loss: 1.4213 - val_mae: 1.4213 - val_mse: 3.1639\n",
            "Epoch 179/500\n",
            "10/10 [==============================] - 0s 4ms/step - loss: 1.3190 - mae: 1.3190 - mse: 2.7196 - val_loss: 1.4215 - val_mae: 1.4215 - val_mse: 3.1615\n",
            "Epoch 180/500\n",
            "10/10 [==============================] - 0s 5ms/step - loss: 1.3180 - mae: 1.3180 - mse: 2.7148 - val_loss: 1.4215 - val_mae: 1.4215 - val_mse: 3.1592\n",
            "Epoch 181/500\n",
            "10/10 [==============================] - 0s 5ms/step - loss: 1.3173 - mae: 1.3173 - mse: 2.7108 - val_loss: 1.4218 - val_mae: 1.4218 - val_mse: 3.1570\n",
            "Epoch 182/500\n",
            "10/10 [==============================] - 0s 4ms/step - loss: 1.3165 - mae: 1.3165 - mse: 2.7064 - val_loss: 1.4219 - val_mae: 1.4219 - val_mse: 3.1548\n",
            "Epoch 183/500\n",
            "10/10 [==============================] - 0s 4ms/step - loss: 1.3156 - mae: 1.3156 - mse: 2.7026 - val_loss: 1.4216 - val_mae: 1.4216 - val_mse: 3.1524\n",
            "Epoch 184/500\n",
            "10/10 [==============================] - 0s 5ms/step - loss: 1.3150 - mae: 1.3150 - mse: 2.6989 - val_loss: 1.4217 - val_mae: 1.4217 - val_mse: 3.1503\n",
            "Epoch 185/500\n",
            "10/10 [==============================] - 0s 4ms/step - loss: 1.3142 - mae: 1.3142 - mse: 2.6948 - val_loss: 1.4217 - val_mae: 1.4217 - val_mse: 3.1481\n",
            "Epoch 186/500\n",
            "10/10 [==============================] - 0s 5ms/step - loss: 1.3134 - mae: 1.3134 - mse: 2.6911 - val_loss: 1.4215 - val_mae: 1.4215 - val_mse: 3.1458\n",
            "Epoch 187/500\n",
            "10/10 [==============================] - 0s 5ms/step - loss: 1.3128 - mae: 1.3128 - mse: 2.6873 - val_loss: 1.4216 - val_mae: 1.4216 - val_mse: 3.1437\n",
            "Epoch 188/500\n",
            "10/10 [==============================] - 0s 5ms/step - loss: 1.3120 - mae: 1.3120 - mse: 2.6834 - val_loss: 1.4216 - val_mae: 1.4216 - val_mse: 3.1415\n",
            "Epoch 189/500\n",
            "10/10 [==============================] - 0s 5ms/step - loss: 1.3112 - mae: 1.3112 - mse: 2.6798 - val_loss: 1.4217 - val_mae: 1.4217 - val_mse: 3.1394\n",
            "Epoch 190/500\n",
            "10/10 [==============================] - 0s 4ms/step - loss: 1.3104 - mae: 1.3104 - mse: 2.6760 - val_loss: 1.4217 - val_mae: 1.4217 - val_mse: 3.1372\n",
            "Epoch 191/500\n",
            "10/10 [==============================] - 0s 5ms/step - loss: 1.3097 - mae: 1.3097 - mse: 2.6728 - val_loss: 1.4216 - val_mae: 1.4216 - val_mse: 3.1349\n",
            "Epoch 192/500\n",
            "10/10 [==============================] - 0s 4ms/step - loss: 1.3090 - mae: 1.3090 - mse: 2.6690 - val_loss: 1.4218 - val_mae: 1.4218 - val_mse: 3.1328\n",
            "Epoch 193/500\n",
            "10/10 [==============================] - 0s 5ms/step - loss: 1.3082 - mae: 1.3082 - mse: 2.6654 - val_loss: 1.4218 - val_mae: 1.4218 - val_mse: 3.1306\n",
            "Epoch 194/500\n",
            "10/10 [==============================] - 0s 5ms/step - loss: 1.3075 - mae: 1.3075 - mse: 2.6619 - val_loss: 1.4220 - val_mae: 1.4220 - val_mse: 3.1286\n",
            "Epoch 195/500\n",
            "10/10 [==============================] - 0s 4ms/step - loss: 1.3069 - mae: 1.3069 - mse: 2.6583 - val_loss: 1.4221 - val_mae: 1.4221 - val_mse: 3.1266\n",
            "Epoch 196/500\n",
            "10/10 [==============================] - 0s 4ms/step - loss: 1.3061 - mae: 1.3061 - mse: 2.6547 - val_loss: 1.4220 - val_mae: 1.4220 - val_mse: 3.1244\n",
            "Epoch 197/500\n",
            "10/10 [==============================] - 0s 6ms/step - loss: 1.3054 - mae: 1.3054 - mse: 2.6515 - val_loss: 1.4219 - val_mae: 1.4219 - val_mse: 3.1221\n",
            "Epoch 198/500\n",
            "10/10 [==============================] - 0s 4ms/step - loss: 1.3047 - mae: 1.3047 - mse: 2.6484 - val_loss: 1.4217 - val_mae: 1.4217 - val_mse: 3.1198\n",
            "Epoch 199/500\n",
            "10/10 [==============================] - 0s 5ms/step - loss: 1.3040 - mae: 1.3040 - mse: 2.6449 - val_loss: 1.4216 - val_mae: 1.4216 - val_mse: 3.1176\n",
            "Epoch 200/500\n",
            "10/10 [==============================] - 0s 4ms/step - loss: 1.3033 - mae: 1.3033 - mse: 2.6416 - val_loss: 1.4216 - val_mae: 1.4216 - val_mse: 3.1154\n",
            "Epoch 201/500\n",
            "10/10 [==============================] - 0s 4ms/step - loss: 1.3026 - mae: 1.3026 - mse: 2.6385 - val_loss: 1.4214 - val_mae: 1.4214 - val_mse: 3.1131\n",
            "Epoch 202/500\n",
            "10/10 [==============================] - 0s 5ms/step - loss: 1.3019 - mae: 1.3019 - mse: 2.6353 - val_loss: 1.4211 - val_mae: 1.4211 - val_mse: 3.1108\n",
            "Epoch 203/500\n",
            "10/10 [==============================] - 0s 4ms/step - loss: 1.3013 - mae: 1.3013 - mse: 2.6323 - val_loss: 1.4211 - val_mae: 1.4211 - val_mse: 3.1086\n",
            "Epoch 204/500\n",
            "10/10 [==============================] - 0s 4ms/step - loss: 1.3007 - mae: 1.3007 - mse: 2.6290 - val_loss: 1.4208 - val_mae: 1.4208 - val_mse: 3.1061\n",
            "Epoch 205/500\n",
            "10/10 [==============================] - 0s 5ms/step - loss: 1.3000 - mae: 1.3000 - mse: 2.6261 - val_loss: 1.4206 - val_mae: 1.4206 - val_mse: 3.1038\n",
            "Epoch 206/500\n",
            "10/10 [==============================] - 0s 4ms/step - loss: 1.2994 - mae: 1.2994 - mse: 2.6232 - val_loss: 1.4203 - val_mae: 1.4203 - val_mse: 3.1013\n",
            "Epoch 207/500\n",
            "10/10 [==============================] - 0s 5ms/step - loss: 1.2988 - mae: 1.2988 - mse: 2.6201 - val_loss: 1.4201 - val_mae: 1.4201 - val_mse: 3.0989\n",
            "Epoch 208/500\n",
            "10/10 [==============================] - 0s 5ms/step - loss: 1.2981 - mae: 1.2981 - mse: 2.6173 - val_loss: 1.4194 - val_mae: 1.4194 - val_mse: 3.0961\n",
            "Epoch 209/500\n",
            "10/10 [==============================] - 0s 5ms/step - loss: 1.2975 - mae: 1.2975 - mse: 2.6145 - val_loss: 1.4191 - val_mae: 1.4191 - val_mse: 3.0936\n",
            "Epoch 210/500\n",
            "10/10 [==============================] - 0s 5ms/step - loss: 1.2969 - mae: 1.2969 - mse: 2.6117 - val_loss: 1.4186 - val_mae: 1.4186 - val_mse: 3.0908\n",
            "Epoch 211/500\n",
            "10/10 [==============================] - 0s 4ms/step - loss: 1.2962 - mae: 1.2962 - mse: 2.6092 - val_loss: 1.4178 - val_mae: 1.4178 - val_mse: 3.0879\n",
            "Epoch 212/500\n",
            "10/10 [==============================] - 0s 7ms/step - loss: 1.2956 - mae: 1.2956 - mse: 2.6064 - val_loss: 1.4176 - val_mae: 1.4176 - val_mse: 3.0854\n",
            "Epoch 213/500\n",
            "10/10 [==============================] - 0s 4ms/step - loss: 1.2950 - mae: 1.2950 - mse: 2.6034 - val_loss: 1.4174 - val_mae: 1.4174 - val_mse: 3.0830\n",
            "Epoch 214/500\n",
            "10/10 [==============================] - 0s 4ms/step - loss: 1.2943 - mae: 1.2943 - mse: 2.6004 - val_loss: 1.4169 - val_mae: 1.4169 - val_mse: 3.0802\n",
            "Epoch 215/500\n",
            "10/10 [==============================] - 0s 4ms/step - loss: 1.2936 - mae: 1.2936 - mse: 2.5976 - val_loss: 1.4165 - val_mae: 1.4165 - val_mse: 3.0776\n",
            "Epoch 216/500\n",
            "10/10 [==============================] - 0s 4ms/step - loss: 1.2930 - mae: 1.2930 - mse: 2.5951 - val_loss: 1.4157 - val_mae: 1.4157 - val_mse: 3.0745\n",
            "Epoch 217/500\n",
            "10/10 [==============================] - 0s 5ms/step - loss: 1.2923 - mae: 1.2923 - mse: 2.5924 - val_loss: 1.4151 - val_mae: 1.4151 - val_mse: 3.0716\n",
            "Epoch 218/500\n",
            "10/10 [==============================] - 0s 5ms/step - loss: 1.2917 - mae: 1.2917 - mse: 2.5894 - val_loss: 1.4148 - val_mae: 1.4148 - val_mse: 3.0692\n",
            "Epoch 219/500\n",
            "10/10 [==============================] - 0s 4ms/step - loss: 1.2911 - mae: 1.2911 - mse: 2.5865 - val_loss: 1.4145 - val_mae: 1.4145 - val_mse: 3.0665\n",
            "Epoch 220/500\n",
            "10/10 [==============================] - 0s 4ms/step - loss: 1.2904 - mae: 1.2904 - mse: 2.5833 - val_loss: 1.4141 - val_mae: 1.4141 - val_mse: 3.0638\n",
            "Epoch 221/500\n",
            "10/10 [==============================] - 0s 5ms/step - loss: 1.2897 - mae: 1.2897 - mse: 2.5807 - val_loss: 1.4132 - val_mae: 1.4132 - val_mse: 3.0607\n",
            "Epoch 222/500\n",
            "10/10 [==============================] - 0s 4ms/step - loss: 1.2891 - mae: 1.2891 - mse: 2.5787 - val_loss: 1.4121 - val_mae: 1.4121 - val_mse: 3.0573\n",
            "Epoch 223/500\n",
            "10/10 [==============================] - 0s 5ms/step - loss: 1.2884 - mae: 1.2884 - mse: 2.5759 - val_loss: 1.4116 - val_mae: 1.4116 - val_mse: 3.0544\n",
            "Epoch 224/500\n",
            "10/10 [==============================] - 0s 4ms/step - loss: 1.2877 - mae: 1.2877 - mse: 2.5731 - val_loss: 1.4109 - val_mae: 1.4109 - val_mse: 3.0514\n",
            "Epoch 225/500\n",
            "10/10 [==============================] - 0s 5ms/step - loss: 1.2871 - mae: 1.2871 - mse: 2.5703 - val_loss: 1.4102 - val_mae: 1.4102 - val_mse: 3.0484\n",
            "Epoch 226/500\n",
            "10/10 [==============================] - 0s 5ms/step - loss: 1.2864 - mae: 1.2864 - mse: 2.5671 - val_loss: 1.4101 - val_mae: 1.4101 - val_mse: 3.0460\n",
            "Epoch 227/500\n",
            "10/10 [==============================] - 0s 5ms/step - loss: 1.2857 - mae: 1.2857 - mse: 2.5643 - val_loss: 1.4094 - val_mae: 1.4094 - val_mse: 3.0429\n",
            "Epoch 228/500\n",
            "10/10 [==============================] - 0s 5ms/step - loss: 1.2850 - mae: 1.2850 - mse: 2.5613 - val_loss: 1.4087 - val_mae: 1.4087 - val_mse: 3.0398\n",
            "Epoch 229/500\n",
            "10/10 [==============================] - 0s 4ms/step - loss: 1.2843 - mae: 1.2843 - mse: 2.5586 - val_loss: 1.4080 - val_mae: 1.4080 - val_mse: 3.0367\n",
            "Epoch 230/500\n",
            "10/10 [==============================] - 0s 4ms/step - loss: 1.2837 - mae: 1.2837 - mse: 2.5561 - val_loss: 1.4071 - val_mae: 1.4071 - val_mse: 3.0335\n",
            "Epoch 231/500\n",
            "10/10 [==============================] - 0s 5ms/step - loss: 1.2829 - mae: 1.2829 - mse: 2.5530 - val_loss: 1.4068 - val_mae: 1.4068 - val_mse: 3.0308\n",
            "Epoch 232/500\n",
            "10/10 [==============================] - 0s 7ms/step - loss: 1.2822 - mae: 1.2822 - mse: 2.5500 - val_loss: 1.4062 - val_mae: 1.4062 - val_mse: 3.0279\n",
            "Epoch 233/500\n",
            "10/10 [==============================] - 0s 4ms/step - loss: 1.2816 - mae: 1.2816 - mse: 2.5471 - val_loss: 1.4057 - val_mae: 1.4057 - val_mse: 3.0248\n",
            "Epoch 234/500\n",
            "10/10 [==============================] - 0s 4ms/step - loss: 1.2809 - mae: 1.2809 - mse: 2.5438 - val_loss: 1.4053 - val_mae: 1.4053 - val_mse: 3.0221\n",
            "Epoch 235/500\n",
            "10/10 [==============================] - 0s 5ms/step - loss: 1.2803 - mae: 1.2803 - mse: 2.5416 - val_loss: 1.4039 - val_mae: 1.4039 - val_mse: 3.0183\n",
            "Epoch 236/500\n",
            "10/10 [==============================] - 0s 4ms/step - loss: 1.2795 - mae: 1.2795 - mse: 2.5384 - val_loss: 1.4039 - val_mae: 1.4039 - val_mse: 3.0158\n",
            "Epoch 237/500\n",
            "10/10 [==============================] - 0s 4ms/step - loss: 1.2787 - mae: 1.2787 - mse: 2.5352 - val_loss: 1.4029 - val_mae: 1.4029 - val_mse: 3.0124\n",
            "Epoch 238/500\n",
            "10/10 [==============================] - 0s 5ms/step - loss: 1.2780 - mae: 1.2780 - mse: 2.5324 - val_loss: 1.4025 - val_mae: 1.4025 - val_mse: 3.0095\n",
            "Epoch 239/500\n",
            "10/10 [==============================] - 0s 4ms/step - loss: 1.2773 - mae: 1.2773 - mse: 2.5294 - val_loss: 1.4017 - val_mae: 1.4017 - val_mse: 3.0064\n",
            "Epoch 240/500\n",
            "10/10 [==============================] - 0s 4ms/step - loss: 1.2766 - mae: 1.2766 - mse: 2.5266 - val_loss: 1.4007 - val_mae: 1.4007 - val_mse: 3.0029\n",
            "Epoch 241/500\n",
            "10/10 [==============================] - 0s 4ms/step - loss: 1.2758 - mae: 1.2758 - mse: 2.5237 - val_loss: 1.4000 - val_mae: 1.4000 - val_mse: 2.9997\n",
            "Epoch 242/500\n",
            "10/10 [==============================] - 0s 4ms/step - loss: 1.2752 - mae: 1.2752 - mse: 2.5209 - val_loss: 1.3995 - val_mae: 1.3995 - val_mse: 2.9966\n",
            "Epoch 243/500\n",
            "10/10 [==============================] - 0s 5ms/step - loss: 1.2744 - mae: 1.2744 - mse: 2.5178 - val_loss: 1.3991 - val_mae: 1.3991 - val_mse: 2.9937\n",
            "Epoch 244/500\n",
            "10/10 [==============================] - 0s 4ms/step - loss: 1.2736 - mae: 1.2736 - mse: 2.5146 - val_loss: 1.3981 - val_mae: 1.3981 - val_mse: 2.9903\n",
            "Epoch 245/500\n",
            "10/10 [==============================] - 0s 6ms/step - loss: 1.2730 - mae: 1.2730 - mse: 2.5117 - val_loss: 1.3976 - val_mae: 1.3976 - val_mse: 2.9873\n",
            "Epoch 246/500\n",
            "10/10 [==============================] - 0s 4ms/step - loss: 1.2722 - mae: 1.2722 - mse: 2.5085 - val_loss: 1.3967 - val_mae: 1.3967 - val_mse: 2.9838\n",
            "Epoch 247/500\n",
            "10/10 [==============================] - 0s 5ms/step - loss: 1.2714 - mae: 1.2714 - mse: 2.5055 - val_loss: 1.3961 - val_mae: 1.3961 - val_mse: 2.9807\n",
            "Epoch 248/500\n",
            "10/10 [==============================] - 0s 4ms/step - loss: 1.2707 - mae: 1.2707 - mse: 2.5024 - val_loss: 1.3955 - val_mae: 1.3955 - val_mse: 2.9776\n",
            "Epoch 249/500\n",
            "10/10 [==============================] - 0s 5ms/step - loss: 1.2700 - mae: 1.2700 - mse: 2.4996 - val_loss: 1.3944 - val_mae: 1.3944 - val_mse: 2.9739\n",
            "Epoch 250/500\n",
            "10/10 [==============================] - 0s 4ms/step - loss: 1.2692 - mae: 1.2692 - mse: 2.4969 - val_loss: 1.3935 - val_mae: 1.3935 - val_mse: 2.9704\n",
            "Epoch 251/500\n",
            "10/10 [==============================] - 0s 4ms/step - loss: 1.2684 - mae: 1.2684 - mse: 2.4936 - val_loss: 1.3932 - val_mae: 1.3932 - val_mse: 2.9676\n",
            "Epoch 252/500\n",
            "10/10 [==============================] - 0s 6ms/step - loss: 1.2677 - mae: 1.2677 - mse: 2.4903 - val_loss: 1.3924 - val_mae: 1.3924 - val_mse: 2.9642\n",
            "Epoch 253/500\n",
            "10/10 [==============================] - 0s 4ms/step - loss: 1.2670 - mae: 1.2670 - mse: 2.4876 - val_loss: 1.3913 - val_mae: 1.3913 - val_mse: 2.9605\n",
            "Epoch 254/500\n",
            "10/10 [==============================] - 0s 4ms/step - loss: 1.2664 - mae: 1.2664 - mse: 2.4847 - val_loss: 1.3915 - val_mae: 1.3915 - val_mse: 2.9582\n",
            "Epoch 255/500\n",
            "10/10 [==============================] - 0s 5ms/step - loss: 1.2654 - mae: 1.2654 - mse: 2.4807 - val_loss: 1.3906 - val_mae: 1.3906 - val_mse: 2.9547\n",
            "Epoch 256/500\n",
            "10/10 [==============================] - 0s 4ms/step - loss: 1.2646 - mae: 1.2646 - mse: 2.4777 - val_loss: 1.3901 - val_mae: 1.3901 - val_mse: 2.9516\n",
            "Epoch 257/500\n",
            "10/10 [==============================] - 0s 5ms/step - loss: 1.2638 - mae: 1.2638 - mse: 2.4745 - val_loss: 1.3890 - val_mae: 1.3890 - val_mse: 2.9479\n",
            "Epoch 258/500\n",
            "10/10 [==============================] - 0s 5ms/step - loss: 1.2630 - mae: 1.2630 - mse: 2.4715 - val_loss: 1.3882 - val_mae: 1.3882 - val_mse: 2.9444\n",
            "Epoch 259/500\n",
            "10/10 [==============================] - 0s 4ms/step - loss: 1.2623 - mae: 1.2623 - mse: 2.4687 - val_loss: 1.3870 - val_mae: 1.3870 - val_mse: 2.9406\n",
            "Epoch 260/500\n",
            "10/10 [==============================] - 0s 5ms/step - loss: 1.2615 - mae: 1.2615 - mse: 2.4657 - val_loss: 1.3861 - val_mae: 1.3861 - val_mse: 2.9370\n",
            "Epoch 261/500\n",
            "10/10 [==============================] - 0s 4ms/step - loss: 1.2608 - mae: 1.2608 - mse: 2.4626 - val_loss: 1.3860 - val_mae: 1.3860 - val_mse: 2.9343\n",
            "Epoch 262/500\n",
            "10/10 [==============================] - 0s 4ms/step - loss: 1.2600 - mae: 1.2600 - mse: 2.4587 - val_loss: 1.3856 - val_mae: 1.3856 - val_mse: 2.9312\n",
            "Epoch 263/500\n",
            "10/10 [==============================] - 0s 5ms/step - loss: 1.2591 - mae: 1.2591 - mse: 2.4554 - val_loss: 1.3844 - val_mae: 1.3844 - val_mse: 2.9273\n",
            "Epoch 264/500\n",
            "10/10 [==============================] - 0s 5ms/step - loss: 1.2583 - mae: 1.2583 - mse: 2.4525 - val_loss: 1.3834 - val_mae: 1.3834 - val_mse: 2.9237\n",
            "Epoch 265/500\n",
            "10/10 [==============================] - 0s 4ms/step - loss: 1.2575 - mae: 1.2575 - mse: 2.4495 - val_loss: 1.3825 - val_mae: 1.3825 - val_mse: 2.9200\n",
            "Epoch 266/500\n",
            "10/10 [==============================] - 0s 4ms/step - loss: 1.2567 - mae: 1.2567 - mse: 2.4463 - val_loss: 1.3819 - val_mae: 1.3819 - val_mse: 2.9168\n",
            "Epoch 267/500\n",
            "10/10 [==============================] - 0s 5ms/step - loss: 1.2559 - mae: 1.2559 - mse: 2.4428 - val_loss: 1.3813 - val_mae: 1.3813 - val_mse: 2.9136\n",
            "Epoch 268/500\n",
            "10/10 [==============================] - 0s 4ms/step - loss: 1.2551 - mae: 1.2551 - mse: 2.4395 - val_loss: 1.3808 - val_mae: 1.3808 - val_mse: 2.9103\n",
            "Epoch 269/500\n",
            "10/10 [==============================] - 0s 4ms/step - loss: 1.2543 - mae: 1.2543 - mse: 2.4360 - val_loss: 1.3801 - val_mae: 1.3801 - val_mse: 2.9069\n",
            "Epoch 270/500\n",
            "10/10 [==============================] - 0s 4ms/step - loss: 1.2535 - mae: 1.2535 - mse: 2.4328 - val_loss: 1.3791 - val_mae: 1.3791 - val_mse: 2.9031\n",
            "Epoch 271/500\n",
            "10/10 [==============================] - 0s 6ms/step - loss: 1.2526 - mae: 1.2526 - mse: 2.4295 - val_loss: 1.3783 - val_mae: 1.3783 - val_mse: 2.8996\n",
            "Epoch 272/500\n",
            "10/10 [==============================] - 0s 5ms/step - loss: 1.2518 - mae: 1.2518 - mse: 2.4264 - val_loss: 1.3776 - val_mae: 1.3776 - val_mse: 2.8962\n",
            "Epoch 273/500\n",
            "10/10 [==============================] - 0s 5ms/step - loss: 1.2510 - mae: 1.2510 - mse: 2.4230 - val_loss: 1.3770 - val_mae: 1.3770 - val_mse: 2.8928\n",
            "Epoch 274/500\n",
            "10/10 [==============================] - 0s 4ms/step - loss: 1.2502 - mae: 1.2502 - mse: 2.4199 - val_loss: 1.3756 - val_mae: 1.3756 - val_mse: 2.8886\n",
            "Epoch 275/500\n",
            "10/10 [==============================] - 0s 4ms/step - loss: 1.2493 - mae: 1.2493 - mse: 2.4168 - val_loss: 1.3747 - val_mae: 1.3747 - val_mse: 2.8849\n",
            "Epoch 276/500\n",
            "10/10 [==============================] - 0s 4ms/step - loss: 1.2485 - mae: 1.2485 - mse: 2.4134 - val_loss: 1.3745 - val_mae: 1.3745 - val_mse: 2.8821\n",
            "Epoch 277/500\n",
            "10/10 [==============================] - 0s 5ms/step - loss: 1.2477 - mae: 1.2477 - mse: 2.4099 - val_loss: 1.3732 - val_mae: 1.3732 - val_mse: 2.8780\n",
            "Epoch 278/500\n",
            "10/10 [==============================] - 0s 5ms/step - loss: 1.2469 - mae: 1.2469 - mse: 2.4065 - val_loss: 1.3728 - val_mae: 1.3728 - val_mse: 2.8748\n",
            "Epoch 279/500\n",
            "10/10 [==============================] - 0s 5ms/step - loss: 1.2460 - mae: 1.2460 - mse: 2.4035 - val_loss: 1.3714 - val_mae: 1.3714 - val_mse: 2.8705\n",
            "Epoch 280/500\n",
            "10/10 [==============================] - 0s 4ms/step - loss: 1.2451 - mae: 1.2451 - mse: 2.4002 - val_loss: 1.3704 - val_mae: 1.3704 - val_mse: 2.8666\n",
            "Epoch 281/500\n",
            "10/10 [==============================] - 0s 4ms/step - loss: 1.2442 - mae: 1.2442 - mse: 2.3966 - val_loss: 1.3699 - val_mae: 1.3699 - val_mse: 2.8634\n",
            "Epoch 282/500\n",
            "10/10 [==============================] - 0s 4ms/step - loss: 1.2434 - mae: 1.2434 - mse: 2.3934 - val_loss: 1.3689 - val_mae: 1.3689 - val_mse: 2.8596\n",
            "Epoch 283/500\n",
            "10/10 [==============================] - 0s 5ms/step - loss: 1.2426 - mae: 1.2426 - mse: 2.3897 - val_loss: 1.3685 - val_mae: 1.3685 - val_mse: 2.8564\n",
            "Epoch 284/500\n",
            "10/10 [==============================] - 0s 4ms/step - loss: 1.2417 - mae: 1.2417 - mse: 2.3863 - val_loss: 1.3679 - val_mae: 1.3679 - val_mse: 2.8530\n",
            "Epoch 285/500\n",
            "10/10 [==============================] - 0s 7ms/step - loss: 1.2408 - mae: 1.2408 - mse: 2.3827 - val_loss: 1.3667 - val_mae: 1.3667 - val_mse: 2.8489\n",
            "Epoch 286/500\n",
            "10/10 [==============================] - 0s 4ms/step - loss: 1.2399 - mae: 1.2399 - mse: 2.3794 - val_loss: 1.3659 - val_mae: 1.3659 - val_mse: 2.8452\n",
            "Epoch 287/500\n",
            "10/10 [==============================] - 0s 4ms/step - loss: 1.2391 - mae: 1.2391 - mse: 2.3762 - val_loss: 1.3647 - val_mae: 1.3647 - val_mse: 2.8411\n",
            "Epoch 288/500\n",
            "10/10 [==============================] - 0s 5ms/step - loss: 1.2382 - mae: 1.2382 - mse: 2.3728 - val_loss: 1.3640 - val_mae: 1.3640 - val_mse: 2.8376\n",
            "Epoch 289/500\n",
            "10/10 [==============================] - 0s 4ms/step - loss: 1.2373 - mae: 1.2373 - mse: 2.3692 - val_loss: 1.3633 - val_mae: 1.3633 - val_mse: 2.8340\n",
            "Epoch 290/500\n",
            "10/10 [==============================] - 0s 4ms/step - loss: 1.2364 - mae: 1.2364 - mse: 2.3655 - val_loss: 1.3628 - val_mae: 1.3628 - val_mse: 2.8306\n",
            "Epoch 291/500\n",
            "10/10 [==============================] - 0s 4ms/step - loss: 1.2356 - mae: 1.2356 - mse: 2.3620 - val_loss: 1.3622 - val_mae: 1.3622 - val_mse: 2.8273\n",
            "Epoch 292/500\n",
            "10/10 [==============================] - 0s 4ms/step - loss: 1.2346 - mae: 1.2346 - mse: 2.3583 - val_loss: 1.3613 - val_mae: 1.3613 - val_mse: 2.8234\n",
            "Epoch 293/500\n",
            "10/10 [==============================] - 0s 4ms/step - loss: 1.2338 - mae: 1.2338 - mse: 2.3550 - val_loss: 1.3599 - val_mae: 1.3599 - val_mse: 2.8190\n",
            "Epoch 294/500\n",
            "10/10 [==============================] - 0s 4ms/step - loss: 1.2328 - mae: 1.2328 - mse: 2.3518 - val_loss: 1.3588 - val_mae: 1.3588 - val_mse: 2.8149\n",
            "Epoch 295/500\n",
            "10/10 [==============================] - 0s 5ms/step - loss: 1.2320 - mae: 1.2320 - mse: 2.3487 - val_loss: 1.3577 - val_mae: 1.3577 - val_mse: 2.8108\n",
            "Epoch 296/500\n",
            "10/10 [==============================] - 0s 4ms/step - loss: 1.2310 - mae: 1.2310 - mse: 2.3449 - val_loss: 1.3571 - val_mae: 1.3571 - val_mse: 2.8074\n",
            "Epoch 297/500\n",
            "10/10 [==============================] - 0s 4ms/step - loss: 1.2301 - mae: 1.2301 - mse: 2.3411 - val_loss: 1.3564 - val_mae: 1.3564 - val_mse: 2.8038\n",
            "Epoch 298/500\n",
            "10/10 [==============================] - 0s 5ms/step - loss: 1.2292 - mae: 1.2292 - mse: 2.3377 - val_loss: 1.3557 - val_mae: 1.3557 - val_mse: 2.8001\n",
            "Epoch 299/500\n",
            "10/10 [==============================] - 0s 5ms/step - loss: 1.2283 - mae: 1.2283 - mse: 2.3340 - val_loss: 1.3546 - val_mae: 1.3546 - val_mse: 2.7961\n",
            "Epoch 300/500\n",
            "10/10 [==============================] - 0s 4ms/step - loss: 1.2274 - mae: 1.2274 - mse: 2.3307 - val_loss: 1.3538 - val_mae: 1.3538 - val_mse: 2.7923\n",
            "Epoch 301/500\n",
            "10/10 [==============================] - 0s 5ms/step - loss: 1.2265 - mae: 1.2265 - mse: 2.3271 - val_loss: 1.3525 - val_mae: 1.3525 - val_mse: 2.7880\n",
            "Epoch 302/500\n",
            "10/10 [==============================] - 0s 4ms/step - loss: 1.2255 - mae: 1.2255 - mse: 2.3235 - val_loss: 1.3516 - val_mae: 1.3516 - val_mse: 2.7841\n",
            "Epoch 303/500\n",
            "10/10 [==============================] - 0s 4ms/step - loss: 1.2246 - mae: 1.2246 - mse: 2.3199 - val_loss: 1.3509 - val_mae: 1.3509 - val_mse: 2.7804\n",
            "Epoch 304/500\n",
            "10/10 [==============================] - 0s 6ms/step - loss: 1.2237 - mae: 1.2237 - mse: 2.3164 - val_loss: 1.3500 - val_mae: 1.3500 - val_mse: 2.7765\n",
            "Epoch 305/500\n",
            "10/10 [==============================] - 0s 5ms/step - loss: 1.2227 - mae: 1.2227 - mse: 2.3126 - val_loss: 1.3491 - val_mae: 1.3491 - val_mse: 2.7726\n",
            "Epoch 306/500\n",
            "10/10 [==============================] - 0s 5ms/step - loss: 1.2218 - mae: 1.2218 - mse: 2.3089 - val_loss: 1.3483 - val_mae: 1.3483 - val_mse: 2.7688\n",
            "Epoch 307/500\n",
            "10/10 [==============================] - 0s 5ms/step - loss: 1.2209 - mae: 1.2209 - mse: 2.3057 - val_loss: 1.3468 - val_mae: 1.3468 - val_mse: 2.7642\n",
            "Epoch 308/500\n",
            "10/10 [==============================] - 0s 5ms/step - loss: 1.2200 - mae: 1.2200 - mse: 2.3019 - val_loss: 1.3462 - val_mae: 1.3462 - val_mse: 2.7606\n",
            "Epoch 309/500\n",
            "10/10 [==============================] - 0s 5ms/step - loss: 1.2190 - mae: 1.2190 - mse: 2.2983 - val_loss: 1.3448 - val_mae: 1.3448 - val_mse: 2.7561\n",
            "Epoch 310/500\n",
            "10/10 [==============================] - 0s 4ms/step - loss: 1.2181 - mae: 1.2181 - mse: 2.2948 - val_loss: 1.3442 - val_mae: 1.3442 - val_mse: 2.7525\n",
            "Epoch 311/500\n",
            "10/10 [==============================] - 0s 5ms/step - loss: 1.2171 - mae: 1.2171 - mse: 2.2911 - val_loss: 1.3426 - val_mae: 1.3426 - val_mse: 2.7478\n",
            "Epoch 312/500\n",
            "10/10 [==============================] - 0s 4ms/step - loss: 1.2161 - mae: 1.2161 - mse: 2.2877 - val_loss: 1.3416 - val_mae: 1.3416 - val_mse: 2.7436\n",
            "Epoch 313/500\n",
            "10/10 [==============================] - 0s 5ms/step - loss: 1.2153 - mae: 1.2153 - mse: 2.2843 - val_loss: 1.3411 - val_mae: 1.3411 - val_mse: 2.7401\n",
            "Epoch 314/500\n",
            "10/10 [==============================] - 0s 5ms/step - loss: 1.2142 - mae: 1.2142 - mse: 2.2804 - val_loss: 1.3394 - val_mae: 1.3394 - val_mse: 2.7353\n",
            "Epoch 315/500\n",
            "10/10 [==============================] - 0s 4ms/step - loss: 1.2135 - mae: 1.2135 - mse: 2.2773 - val_loss: 1.3391 - val_mae: 1.3391 - val_mse: 2.7320\n",
            "Epoch 316/500\n",
            "10/10 [==============================] - 0s 4ms/step - loss: 1.2123 - mae: 1.2123 - mse: 2.2733 - val_loss: 1.3372 - val_mae: 1.3372 - val_mse: 2.7268\n",
            "Epoch 317/500\n",
            "10/10 [==============================] - 0s 4ms/step - loss: 1.2113 - mae: 1.2113 - mse: 2.2699 - val_loss: 1.3359 - val_mae: 1.3359 - val_mse: 2.7224\n",
            "Epoch 318/500\n",
            "10/10 [==============================] - 0s 4ms/step - loss: 1.2103 - mae: 1.2103 - mse: 2.2661 - val_loss: 1.3350 - val_mae: 1.3350 - val_mse: 2.7184\n",
            "Epoch 319/500\n",
            "10/10 [==============================] - 0s 5ms/step - loss: 1.2094 - mae: 1.2094 - mse: 2.2623 - val_loss: 1.3344 - val_mae: 1.3344 - val_mse: 2.7147\n",
            "Epoch 320/500\n",
            "10/10 [==============================] - 0s 4ms/step - loss: 1.2084 - mae: 1.2084 - mse: 2.2584 - val_loss: 1.3331 - val_mae: 1.3331 - val_mse: 2.7102\n",
            "Epoch 321/500\n",
            "10/10 [==============================] - 0s 4ms/step - loss: 1.2074 - mae: 1.2074 - mse: 2.2547 - val_loss: 1.3320 - val_mae: 1.3320 - val_mse: 2.7060\n",
            "Epoch 322/500\n",
            "10/10 [==============================] - 0s 4ms/step - loss: 1.2064 - mae: 1.2064 - mse: 2.2512 - val_loss: 1.3309 - val_mae: 1.3309 - val_mse: 2.7018\n",
            "Epoch 323/500\n",
            "10/10 [==============================] - 0s 4ms/step - loss: 1.2054 - mae: 1.2054 - mse: 2.2474 - val_loss: 1.3297 - val_mae: 1.3297 - val_mse: 2.6974\n",
            "Epoch 324/500\n",
            "10/10 [==============================] - 0s 4ms/step - loss: 1.2045 - mae: 1.2045 - mse: 2.2442 - val_loss: 1.3284 - val_mae: 1.3284 - val_mse: 2.6928\n",
            "Epoch 325/500\n",
            "10/10 [==============================] - 0s 5ms/step - loss: 1.2035 - mae: 1.2035 - mse: 2.2405 - val_loss: 1.3279 - val_mae: 1.3279 - val_mse: 2.6893\n",
            "Epoch 326/500\n",
            "10/10 [==============================] - 0s 5ms/step - loss: 1.2024 - mae: 1.2024 - mse: 2.2363 - val_loss: 1.3265 - val_mae: 1.3265 - val_mse: 2.6846\n",
            "Epoch 327/500\n",
            "10/10 [==============================] - 0s 4ms/step - loss: 1.2014 - mae: 1.2014 - mse: 2.2326 - val_loss: 1.3254 - val_mae: 1.3254 - val_mse: 2.6804\n",
            "Epoch 328/500\n",
            "10/10 [==============================] - 0s 5ms/step - loss: 1.2004 - mae: 1.2004 - mse: 2.2290 - val_loss: 1.3240 - val_mae: 1.3240 - val_mse: 2.6757\n",
            "Epoch 329/500\n",
            "10/10 [==============================] - 0s 4ms/step - loss: 1.1995 - mae: 1.1995 - mse: 2.2254 - val_loss: 1.3232 - val_mae: 1.3232 - val_mse: 2.6718\n",
            "Epoch 330/500\n",
            "10/10 [==============================] - 0s 4ms/step - loss: 1.1984 - mae: 1.1984 - mse: 2.2215 - val_loss: 1.3218 - val_mae: 1.3218 - val_mse: 2.6671\n",
            "Epoch 331/500\n",
            "10/10 [==============================] - 0s 5ms/step - loss: 1.1974 - mae: 1.1974 - mse: 2.2177 - val_loss: 1.3208 - val_mae: 1.3208 - val_mse: 2.6630\n",
            "Epoch 332/500\n",
            "10/10 [==============================] - 0s 5ms/step - loss: 1.1964 - mae: 1.1964 - mse: 2.2141 - val_loss: 1.3199 - val_mae: 1.3199 - val_mse: 2.6588\n",
            "Epoch 333/500\n",
            "10/10 [==============================] - 0s 4ms/step - loss: 1.1953 - mae: 1.1953 - mse: 2.2101 - val_loss: 1.3187 - val_mae: 1.3187 - val_mse: 2.6544\n",
            "Epoch 334/500\n",
            "10/10 [==============================] - 0s 5ms/step - loss: 1.1944 - mae: 1.1944 - mse: 2.2063 - val_loss: 1.3185 - val_mae: 1.3185 - val_mse: 2.6511\n",
            "Epoch 335/500\n",
            "10/10 [==============================] - 0s 4ms/step - loss: 1.1933 - mae: 1.1933 - mse: 2.2018 - val_loss: 1.3171 - val_mae: 1.3171 - val_mse: 2.6465\n",
            "Epoch 336/500\n",
            "10/10 [==============================] - 0s 4ms/step - loss: 1.1923 - mae: 1.1923 - mse: 2.1983 - val_loss: 1.3164 - val_mae: 1.3164 - val_mse: 2.6427\n",
            "Epoch 337/500\n",
            "10/10 [==============================] - 0s 5ms/step - loss: 1.1913 - mae: 1.1913 - mse: 2.1942 - val_loss: 1.3155 - val_mae: 1.3155 - val_mse: 2.6386\n",
            "Epoch 338/500\n",
            "10/10 [==============================] - 0s 4ms/step - loss: 1.1902 - mae: 1.1902 - mse: 2.1901 - val_loss: 1.3146 - val_mae: 1.3146 - val_mse: 2.6345\n",
            "Epoch 339/500\n",
            "10/10 [==============================] - 0s 4ms/step - loss: 1.1892 - mae: 1.1892 - mse: 2.1861 - val_loss: 1.3140 - val_mae: 1.3140 - val_mse: 2.6307\n",
            "Epoch 340/500\n",
            "10/10 [==============================] - 0s 4ms/step - loss: 1.1881 - mae: 1.1881 - mse: 2.1822 - val_loss: 1.3122 - val_mae: 1.3122 - val_mse: 2.6255\n",
            "Epoch 341/500\n",
            "10/10 [==============================] - 0s 4ms/step - loss: 1.1871 - mae: 1.1871 - mse: 2.1787 - val_loss: 1.3109 - val_mae: 1.3109 - val_mse: 2.6208\n",
            "Epoch 342/500\n",
            "10/10 [==============================] - 0s 7ms/step - loss: 1.1860 - mae: 1.1860 - mse: 2.1747 - val_loss: 1.3102 - val_mae: 1.3102 - val_mse: 2.6169\n",
            "Epoch 343/500\n",
            "10/10 [==============================] - 0s 5ms/step - loss: 1.1850 - mae: 1.1850 - mse: 2.1709 - val_loss: 1.3088 - val_mae: 1.3088 - val_mse: 2.6123\n",
            "Epoch 344/500\n",
            "10/10 [==============================] - 0s 5ms/step - loss: 1.1840 - mae: 1.1840 - mse: 2.1672 - val_loss: 1.3074 - val_mae: 1.3074 - val_mse: 2.6074\n",
            "Epoch 345/500\n",
            "10/10 [==============================] - 0s 5ms/step - loss: 1.1829 - mae: 1.1829 - mse: 2.1631 - val_loss: 1.3071 - val_mae: 1.3071 - val_mse: 2.6039\n",
            "Epoch 346/500\n",
            "10/10 [==============================] - 0s 5ms/step - loss: 1.1818 - mae: 1.1818 - mse: 2.1587 - val_loss: 1.3063 - val_mae: 1.3063 - val_mse: 2.5999\n",
            "Epoch 347/500\n",
            "10/10 [==============================] - 0s 4ms/step - loss: 1.1808 - mae: 1.1808 - mse: 2.1550 - val_loss: 1.3048 - val_mae: 1.3048 - val_mse: 2.5950\n",
            "Epoch 348/500\n",
            "10/10 [==============================] - 0s 5ms/step - loss: 1.1797 - mae: 1.1797 - mse: 2.1511 - val_loss: 1.3039 - val_mae: 1.3039 - val_mse: 2.5908\n",
            "Epoch 349/500\n",
            "10/10 [==============================] - 0s 5ms/step - loss: 1.1786 - mae: 1.1786 - mse: 2.1470 - val_loss: 1.3035 - val_mae: 1.3035 - val_mse: 2.5872\n",
            "Epoch 350/500\n",
            "10/10 [==============================] - 0s 6ms/step - loss: 1.1775 - mae: 1.1775 - mse: 2.1427 - val_loss: 1.3021 - val_mae: 1.3021 - val_mse: 2.5824\n",
            "Epoch 351/500\n",
            "10/10 [==============================] - 0s 5ms/step - loss: 1.1765 - mae: 1.1765 - mse: 2.1390 - val_loss: 1.3007 - val_mae: 1.3007 - val_mse: 2.5775\n",
            "Epoch 352/500\n",
            "10/10 [==============================] - 0s 4ms/step - loss: 1.1754 - mae: 1.1754 - mse: 2.1351 - val_loss: 1.2998 - val_mae: 1.2998 - val_mse: 2.5734\n",
            "Epoch 353/500\n",
            "10/10 [==============================] - 0s 4ms/step - loss: 1.1743 - mae: 1.1743 - mse: 2.1312 - val_loss: 1.2984 - val_mae: 1.2984 - val_mse: 2.5686\n",
            "Epoch 354/500\n",
            "10/10 [==============================] - 0s 5ms/step - loss: 1.1732 - mae: 1.1732 - mse: 2.1271 - val_loss: 1.2978 - val_mae: 1.2978 - val_mse: 2.5647\n",
            "Epoch 355/500\n",
            "10/10 [==============================] - 0s 5ms/step - loss: 1.1721 - mae: 1.1721 - mse: 2.1231 - val_loss: 1.2962 - val_mae: 1.2962 - val_mse: 2.5597\n",
            "Epoch 356/500\n",
            "10/10 [==============================] - 0s 4ms/step - loss: 1.1711 - mae: 1.1711 - mse: 2.1191 - val_loss: 1.2960 - val_mae: 1.2960 - val_mse: 2.5562\n",
            "Epoch 357/500\n",
            "10/10 [==============================] - 0s 5ms/step - loss: 1.1699 - mae: 1.1699 - mse: 2.1148 - val_loss: 1.2945 - val_mae: 1.2945 - val_mse: 2.5513\n",
            "Epoch 358/500\n",
            "10/10 [==============================] - 0s 4ms/step - loss: 1.1688 - mae: 1.1688 - mse: 2.1110 - val_loss: 1.2936 - val_mae: 1.2936 - val_mse: 2.5471\n",
            "Epoch 359/500\n",
            "10/10 [==============================] - 0s 4ms/step - loss: 1.1678 - mae: 1.1678 - mse: 2.1069 - val_loss: 1.2928 - val_mae: 1.2928 - val_mse: 2.5429\n",
            "Epoch 360/500\n",
            "10/10 [==============================] - 0s 4ms/step - loss: 1.1667 - mae: 1.1667 - mse: 2.1028 - val_loss: 1.2915 - val_mae: 1.2915 - val_mse: 2.5383\n",
            "Epoch 361/500\n",
            "10/10 [==============================] - 0s 5ms/step - loss: 1.1655 - mae: 1.1655 - mse: 2.0987 - val_loss: 1.2899 - val_mae: 1.2899 - val_mse: 2.5332\n",
            "Epoch 362/500\n",
            "10/10 [==============================] - 0s 4ms/step - loss: 1.1645 - mae: 1.1645 - mse: 2.0952 - val_loss: 1.2880 - val_mae: 1.2880 - val_mse: 2.5278\n",
            "Epoch 363/500\n",
            "10/10 [==============================] - 0s 5ms/step - loss: 1.1633 - mae: 1.1633 - mse: 2.0916 - val_loss: 1.2864 - val_mae: 1.2864 - val_mse: 2.5228\n",
            "Epoch 364/500\n",
            "10/10 [==============================] - 0s 6ms/step - loss: 1.1622 - mae: 1.1622 - mse: 2.0874 - val_loss: 1.2857 - val_mae: 1.2857 - val_mse: 2.5187\n",
            "Epoch 365/500\n",
            "10/10 [==============================] - 0s 4ms/step - loss: 1.1610 - mae: 1.1610 - mse: 2.0830 - val_loss: 1.2846 - val_mae: 1.2846 - val_mse: 2.5142\n",
            "Epoch 366/500\n",
            "10/10 [==============================] - 0s 4ms/step - loss: 1.1599 - mae: 1.1599 - mse: 2.0790 - val_loss: 1.2835 - val_mae: 1.2835 - val_mse: 2.5097\n",
            "Epoch 367/500\n",
            "10/10 [==============================] - 0s 4ms/step - loss: 1.1589 - mae: 1.1589 - mse: 2.0748 - val_loss: 1.2829 - val_mae: 1.2829 - val_mse: 2.5057\n",
            "Epoch 368/500\n",
            "10/10 [==============================] - 0s 4ms/step - loss: 1.1577 - mae: 1.1577 - mse: 2.0705 - val_loss: 1.2815 - val_mae: 1.2815 - val_mse: 2.5009\n",
            "Epoch 369/500\n",
            "10/10 [==============================] - 0s 6ms/step - loss: 1.1566 - mae: 1.1566 - mse: 2.0667 - val_loss: 1.2799 - val_mae: 1.2799 - val_mse: 2.4958\n",
            "Epoch 370/500\n",
            "10/10 [==============================] - 0s 5ms/step - loss: 1.1554 - mae: 1.1554 - mse: 2.0629 - val_loss: 1.2784 - val_mae: 1.2784 - val_mse: 2.4908\n",
            "Epoch 371/500\n",
            "10/10 [==============================] - 0s 4ms/step - loss: 1.1542 - mae: 1.1542 - mse: 2.0587 - val_loss: 1.2774 - val_mae: 1.2774 - val_mse: 2.4864\n",
            "Epoch 372/500\n",
            "10/10 [==============================] - 0s 5ms/step - loss: 1.1533 - mae: 1.1533 - mse: 2.0548 - val_loss: 1.2767 - val_mae: 1.2767 - val_mse: 2.4823\n",
            "Epoch 373/500\n",
            "10/10 [==============================] - 0s 4ms/step - loss: 1.1520 - mae: 1.1520 - mse: 2.0504 - val_loss: 1.2749 - val_mae: 1.2749 - val_mse: 2.4770\n",
            "Epoch 374/500\n",
            "10/10 [==============================] - 0s 5ms/step - loss: 1.1508 - mae: 1.1508 - mse: 2.0464 - val_loss: 1.2736 - val_mae: 1.2736 - val_mse: 2.4722\n",
            "Epoch 375/500\n",
            "10/10 [==============================] - 0s 5ms/step - loss: 1.1497 - mae: 1.1497 - mse: 2.0428 - val_loss: 1.2716 - val_mae: 1.2716 - val_mse: 2.4667\n",
            "Epoch 376/500\n",
            "10/10 [==============================] - 0s 5ms/step - loss: 1.1485 - mae: 1.1485 - mse: 2.0387 - val_loss: 1.2704 - val_mae: 1.2704 - val_mse: 2.4620\n",
            "Epoch 377/500\n",
            "10/10 [==============================] - 0s 4ms/step - loss: 1.1474 - mae: 1.1474 - mse: 2.0348 - val_loss: 1.2689 - val_mae: 1.2689 - val_mse: 2.4571\n",
            "Epoch 378/500\n",
            "10/10 [==============================] - 0s 4ms/step - loss: 1.1462 - mae: 1.1462 - mse: 2.0306 - val_loss: 1.2682 - val_mae: 1.2682 - val_mse: 2.4529\n",
            "Epoch 379/500\n",
            "10/10 [==============================] - 0s 4ms/step - loss: 1.1451 - mae: 1.1451 - mse: 2.0261 - val_loss: 1.2673 - val_mae: 1.2673 - val_mse: 2.4486\n",
            "Epoch 380/500\n",
            "10/10 [==============================] - 0s 5ms/step - loss: 1.1439 - mae: 1.1439 - mse: 2.0218 - val_loss: 1.2657 - val_mae: 1.2657 - val_mse: 2.4436\n",
            "Epoch 381/500\n",
            "10/10 [==============================] - 0s 5ms/step - loss: 1.1428 - mae: 1.1428 - mse: 2.0184 - val_loss: 1.2638 - val_mae: 1.2638 - val_mse: 2.4381\n",
            "Epoch 382/500\n",
            "10/10 [==============================] - 0s 5ms/step - loss: 1.1417 - mae: 1.1417 - mse: 2.0149 - val_loss: 1.2621 - val_mae: 1.2621 - val_mse: 2.4328\n",
            "Epoch 383/500\n",
            "10/10 [==============================] - 0s 5ms/step - loss: 1.1404 - mae: 1.1404 - mse: 2.0103 - val_loss: 1.2616 - val_mae: 1.2616 - val_mse: 2.4289\n",
            "Epoch 384/500\n",
            "10/10 [==============================] - 0s 5ms/step - loss: 1.1392 - mae: 1.1392 - mse: 2.0056 - val_loss: 1.2604 - val_mae: 1.2604 - val_mse: 2.4243\n",
            "Epoch 385/500\n",
            "10/10 [==============================] - 0s 4ms/step - loss: 1.1381 - mae: 1.1381 - mse: 2.0017 - val_loss: 1.2591 - val_mae: 1.2591 - val_mse: 2.4194\n",
            "Epoch 386/500\n",
            "10/10 [==============================] - 0s 4ms/step - loss: 1.1369 - mae: 1.1369 - mse: 1.9975 - val_loss: 1.2577 - val_mae: 1.2577 - val_mse: 2.4146\n",
            "Epoch 387/500\n",
            "10/10 [==============================] - 0s 5ms/step - loss: 1.1357 - mae: 1.1357 - mse: 1.9935 - val_loss: 1.2565 - val_mae: 1.2565 - val_mse: 2.4099\n",
            "Epoch 388/500\n",
            "10/10 [==============================] - 0s 5ms/step - loss: 1.1347 - mae: 1.1347 - mse: 1.9893 - val_loss: 1.2559 - val_mae: 1.2559 - val_mse: 2.4059\n",
            "Epoch 389/500\n",
            "10/10 [==============================] - 0s 6ms/step - loss: 1.1334 - mae: 1.1334 - mse: 1.9847 - val_loss: 1.2547 - val_mae: 1.2547 - val_mse: 2.4013\n",
            "Epoch 390/500\n",
            "10/10 [==============================] - 0s 5ms/step - loss: 1.1325 - mae: 1.1325 - mse: 1.9816 - val_loss: 1.2521 - val_mae: 1.2521 - val_mse: 2.3951\n",
            "Epoch 391/500\n",
            "10/10 [==============================] - 0s 6ms/step - loss: 1.1314 - mae: 1.1314 - mse: 1.9773 - val_loss: 1.2524 - val_mae: 1.2524 - val_mse: 2.3921\n",
            "Epoch 392/500\n",
            "10/10 [==============================] - 0s 4ms/step - loss: 1.1299 - mae: 1.1299 - mse: 1.9723 - val_loss: 1.2509 - val_mae: 1.2509 - val_mse: 2.3871\n",
            "Epoch 393/500\n",
            "10/10 [==============================] - 0s 5ms/step - loss: 1.1287 - mae: 1.1287 - mse: 1.9682 - val_loss: 1.2492 - val_mae: 1.2492 - val_mse: 2.3818\n",
            "Epoch 394/500\n",
            "10/10 [==============================] - 0s 5ms/step - loss: 1.1275 - mae: 1.1275 - mse: 1.9642 - val_loss: 1.2477 - val_mae: 1.2477 - val_mse: 2.3767\n",
            "Epoch 395/500\n",
            "10/10 [==============================] - 0s 4ms/step - loss: 1.1263 - mae: 1.1263 - mse: 1.9600 - val_loss: 1.2463 - val_mae: 1.2463 - val_mse: 2.3719\n",
            "Epoch 396/500\n",
            "10/10 [==============================] - 0s 5ms/step - loss: 1.1252 - mae: 1.1252 - mse: 1.9565 - val_loss: 1.2445 - val_mae: 1.2445 - val_mse: 2.3665\n",
            "Epoch 397/500\n",
            "10/10 [==============================] - 0s 5ms/step - loss: 1.1240 - mae: 1.1240 - mse: 1.9525 - val_loss: 1.2425 - val_mae: 1.2425 - val_mse: 2.3610\n",
            "Epoch 398/500\n",
            "10/10 [==============================] - 0s 4ms/step - loss: 1.1227 - mae: 1.1227 - mse: 1.9481 - val_loss: 1.2418 - val_mae: 1.2418 - val_mse: 2.3568\n",
            "Epoch 399/500\n",
            "10/10 [==============================] - 0s 5ms/step - loss: 1.1216 - mae: 1.1216 - mse: 1.9436 - val_loss: 1.2407 - val_mae: 1.2407 - val_mse: 2.3522\n",
            "Epoch 400/500\n",
            "10/10 [==============================] - 0s 5ms/step - loss: 1.1203 - mae: 1.1203 - mse: 1.9395 - val_loss: 1.2395 - val_mae: 1.2395 - val_mse: 2.3475\n",
            "Epoch 401/500\n",
            "10/10 [==============================] - 0s 5ms/step - loss: 1.1191 - mae: 1.1191 - mse: 1.9352 - val_loss: 1.2384 - val_mae: 1.2384 - val_mse: 2.3429\n",
            "Epoch 402/500\n",
            "10/10 [==============================] - 0s 6ms/step - loss: 1.1179 - mae: 1.1179 - mse: 1.9310 - val_loss: 1.2369 - val_mae: 1.2369 - val_mse: 2.3379\n",
            "Epoch 403/500\n",
            "10/10 [==============================] - 0s 5ms/step - loss: 1.1167 - mae: 1.1167 - mse: 1.9268 - val_loss: 1.2354 - val_mae: 1.2354 - val_mse: 2.3329\n",
            "Epoch 404/500\n",
            "10/10 [==============================] - 0s 4ms/step - loss: 1.1155 - mae: 1.1155 - mse: 1.9227 - val_loss: 1.2339 - val_mae: 1.2339 - val_mse: 2.3279\n",
            "Epoch 405/500\n",
            "10/10 [==============================] - 0s 4ms/step - loss: 1.1143 - mae: 1.1143 - mse: 1.9186 - val_loss: 1.2323 - val_mae: 1.2323 - val_mse: 2.3227\n",
            "Epoch 406/500\n",
            "10/10 [==============================] - 0s 5ms/step - loss: 1.1131 - mae: 1.1131 - mse: 1.9145 - val_loss: 1.2311 - val_mae: 1.2311 - val_mse: 2.3179\n",
            "Epoch 407/500\n",
            "10/10 [==============================] - 0s 7ms/step - loss: 1.1118 - mae: 1.1118 - mse: 1.9100 - val_loss: 1.2297 - val_mae: 1.2297 - val_mse: 2.3131\n",
            "Epoch 408/500\n",
            "10/10 [==============================] - 0s 5ms/step - loss: 1.1108 - mae: 1.1108 - mse: 1.9063 - val_loss: 1.2276 - val_mae: 1.2276 - val_mse: 2.3075\n",
            "Epoch 409/500\n",
            "10/10 [==============================] - 0s 4ms/step - loss: 1.1094 - mae: 1.1094 - mse: 1.9021 - val_loss: 1.2268 - val_mae: 1.2268 - val_mse: 2.3031\n",
            "Epoch 410/500\n",
            "10/10 [==============================] - 0s 4ms/step - loss: 1.1084 - mae: 1.1084 - mse: 1.8980 - val_loss: 1.2263 - val_mae: 1.2263 - val_mse: 2.2989\n",
            "Epoch 411/500\n",
            "10/10 [==============================] - 0s 5ms/step - loss: 1.1071 - mae: 1.1071 - mse: 1.8936 - val_loss: 1.2233 - val_mae: 1.2233 - val_mse: 2.2925\n",
            "Epoch 412/500\n",
            "10/10 [==============================] - 0s 5ms/step - loss: 1.1057 - mae: 1.1057 - mse: 1.8893 - val_loss: 1.2228 - val_mae: 1.2228 - val_mse: 2.2885\n",
            "Epoch 413/500\n",
            "10/10 [==============================] - 0s 5ms/step - loss: 1.1047 - mae: 1.1047 - mse: 1.8849 - val_loss: 1.2226 - val_mae: 1.2226 - val_mse: 2.2848\n",
            "Epoch 414/500\n",
            "10/10 [==============================] - 0s 5ms/step - loss: 1.1034 - mae: 1.1034 - mse: 1.8805 - val_loss: 1.2206 - val_mae: 1.2206 - val_mse: 2.2792\n",
            "Epoch 415/500\n",
            "10/10 [==============================] - 0s 4ms/step - loss: 1.1020 - mae: 1.1020 - mse: 1.8761 - val_loss: 1.2197 - val_mae: 1.2197 - val_mse: 2.2748\n",
            "Epoch 416/500\n",
            "10/10 [==============================] - 0s 5ms/step - loss: 1.1008 - mae: 1.1008 - mse: 1.8721 - val_loss: 1.2178 - val_mae: 1.2178 - val_mse: 2.2695\n",
            "Epoch 417/500\n",
            "10/10 [==============================] - 0s 4ms/step - loss: 1.0996 - mae: 1.0996 - mse: 1.8677 - val_loss: 1.2167 - val_mae: 1.2167 - val_mse: 2.2647\n",
            "Epoch 418/500\n",
            "10/10 [==============================] - 0s 5ms/step - loss: 1.0983 - mae: 1.0983 - mse: 1.8634 - val_loss: 1.2155 - val_mae: 1.2155 - val_mse: 2.2601\n",
            "Epoch 419/500\n",
            "10/10 [==============================] - 0s 5ms/step - loss: 1.0971 - mae: 1.0971 - mse: 1.8589 - val_loss: 1.2148 - val_mae: 1.2148 - val_mse: 2.2558\n",
            "Epoch 420/500\n",
            "10/10 [==============================] - 0s 5ms/step - loss: 1.0958 - mae: 1.0958 - mse: 1.8543 - val_loss: 1.2134 - val_mae: 1.2134 - val_mse: 2.2510\n",
            "Epoch 421/500\n",
            "10/10 [==============================] - 0s 4ms/step - loss: 1.0946 - mae: 1.0946 - mse: 1.8505 - val_loss: 1.2118 - val_mae: 1.2118 - val_mse: 2.2459\n",
            "Epoch 422/500\n",
            "10/10 [==============================] - 0s 5ms/step - loss: 1.0933 - mae: 1.0933 - mse: 1.8459 - val_loss: 1.2109 - val_mae: 1.2109 - val_mse: 2.2414\n",
            "Epoch 423/500\n",
            "10/10 [==============================] - 0s 4ms/step - loss: 1.0921 - mae: 1.0921 - mse: 1.8418 - val_loss: 1.2092 - val_mae: 1.2092 - val_mse: 2.2362\n",
            "Epoch 424/500\n",
            "10/10 [==============================] - 0s 5ms/step - loss: 1.0908 - mae: 1.0908 - mse: 1.8376 - val_loss: 1.2087 - val_mae: 1.2087 - val_mse: 2.2321\n",
            "Epoch 425/500\n",
            "10/10 [==============================] - 0s 4ms/step - loss: 1.0896 - mae: 1.0896 - mse: 1.8330 - val_loss: 1.2071 - val_mae: 1.2071 - val_mse: 2.2270\n",
            "Epoch 426/500\n",
            "10/10 [==============================] - 0s 5ms/step - loss: 1.0883 - mae: 1.0883 - mse: 1.8286 - val_loss: 1.2066 - val_mae: 1.2066 - val_mse: 2.2230\n",
            "Epoch 427/500\n",
            "10/10 [==============================] - 0s 6ms/step - loss: 1.0870 - mae: 1.0870 - mse: 1.8239 - val_loss: 1.2055 - val_mae: 1.2055 - val_mse: 2.2184\n",
            "Epoch 428/500\n",
            "10/10 [==============================] - 0s 4ms/step - loss: 1.0859 - mae: 1.0859 - mse: 1.8200 - val_loss: 1.2035 - val_mae: 1.2035 - val_mse: 2.2128\n",
            "Epoch 429/500\n",
            "10/10 [==============================] - 0s 4ms/step - loss: 1.0845 - mae: 1.0845 - mse: 1.8157 - val_loss: 1.2018 - val_mae: 1.2018 - val_mse: 2.2075\n",
            "Epoch 430/500\n",
            "10/10 [==============================] - 0s 5ms/step - loss: 1.0835 - mae: 1.0835 - mse: 1.8112 - val_loss: 1.2018 - val_mae: 1.2018 - val_mse: 2.2041\n",
            "Epoch 431/500\n",
            "10/10 [==============================] - 0s 5ms/step - loss: 1.0820 - mae: 1.0820 - mse: 1.8066 - val_loss: 1.1999 - val_mae: 1.1999 - val_mse: 2.1986\n",
            "Epoch 432/500\n",
            "10/10 [==============================] - 0s 4ms/step - loss: 1.0807 - mae: 1.0807 - mse: 1.8028 - val_loss: 1.1979 - val_mae: 1.1979 - val_mse: 2.1930\n",
            "Epoch 433/500\n",
            "10/10 [==============================] - 0s 4ms/step - loss: 1.0794 - mae: 1.0794 - mse: 1.7986 - val_loss: 1.1965 - val_mae: 1.1965 - val_mse: 2.1882\n",
            "Epoch 434/500\n",
            "10/10 [==============================] - 0s 5ms/step - loss: 1.0781 - mae: 1.0781 - mse: 1.7940 - val_loss: 1.1959 - val_mae: 1.1959 - val_mse: 2.1841\n",
            "Epoch 435/500\n",
            "10/10 [==============================] - 0s 4ms/step - loss: 1.0769 - mae: 1.0769 - mse: 1.7899 - val_loss: 1.1940 - val_mae: 1.1940 - val_mse: 2.1786\n",
            "Epoch 436/500\n",
            "10/10 [==============================] - 0s 4ms/step - loss: 1.0756 - mae: 1.0756 - mse: 1.7853 - val_loss: 1.1937 - val_mae: 1.1937 - val_mse: 2.1747\n",
            "Epoch 437/500\n",
            "10/10 [==============================] - 0s 5ms/step - loss: 1.0743 - mae: 1.0743 - mse: 1.7806 - val_loss: 1.1922 - val_mae: 1.1922 - val_mse: 2.1697\n",
            "Epoch 438/500\n",
            "10/10 [==============================] - 0s 5ms/step - loss: 1.0730 - mae: 1.0730 - mse: 1.7764 - val_loss: 1.1911 - val_mae: 1.1911 - val_mse: 2.1652\n",
            "Epoch 439/500\n",
            "10/10 [==============================] - 0s 5ms/step - loss: 1.0717 - mae: 1.0717 - mse: 1.7720 - val_loss: 1.1897 - val_mae: 1.1897 - val_mse: 2.1602\n",
            "Epoch 440/500\n",
            "10/10 [==============================] - 0s 4ms/step - loss: 1.0704 - mae: 1.0704 - mse: 1.7680 - val_loss: 1.1880 - val_mae: 1.1880 - val_mse: 2.1550\n",
            "Epoch 441/500\n",
            "10/10 [==============================] - 0s 4ms/step - loss: 1.0692 - mae: 1.0692 - mse: 1.7641 - val_loss: 1.1857 - val_mae: 1.1857 - val_mse: 2.1491\n",
            "Epoch 442/500\n",
            "10/10 [==============================] - 0s 8ms/step - loss: 1.0679 - mae: 1.0679 - mse: 1.7598 - val_loss: 1.1843 - val_mae: 1.1843 - val_mse: 2.1442\n",
            "Epoch 443/500\n",
            "10/10 [==============================] - 0s 5ms/step - loss: 1.0668 - mae: 1.0668 - mse: 1.7556 - val_loss: 1.1843 - val_mae: 1.1843 - val_mse: 2.1407\n",
            "Epoch 444/500\n",
            "10/10 [==============================] - 0s 5ms/step - loss: 1.0653 - mae: 1.0653 - mse: 1.7508 - val_loss: 1.1824 - val_mae: 1.1824 - val_mse: 2.1353\n",
            "Epoch 445/500\n",
            "10/10 [==============================] - 0s 4ms/step - loss: 1.0640 - mae: 1.0640 - mse: 1.7466 - val_loss: 1.1806 - val_mae: 1.1806 - val_mse: 2.1299\n",
            "Epoch 446/500\n",
            "10/10 [==============================] - 0s 5ms/step - loss: 1.0627 - mae: 1.0627 - mse: 1.7424 - val_loss: 1.1791 - val_mae: 1.1791 - val_mse: 2.1249\n",
            "Epoch 447/500\n",
            "10/10 [==============================] - 0s 6ms/step - loss: 1.0613 - mae: 1.0613 - mse: 1.7380 - val_loss: 1.1778 - val_mae: 1.1778 - val_mse: 2.1201\n",
            "Epoch 448/500\n",
            "10/10 [==============================] - 0s 5ms/step - loss: 1.0601 - mae: 1.0601 - mse: 1.7339 - val_loss: 1.1762 - val_mae: 1.1762 - val_mse: 2.1149\n",
            "Epoch 449/500\n",
            "10/10 [==============================] - 0s 6ms/step - loss: 1.0587 - mae: 1.0587 - mse: 1.7294 - val_loss: 1.1746 - val_mae: 1.1746 - val_mse: 2.1099\n",
            "Epoch 450/500\n",
            "10/10 [==============================] - 0s 5ms/step - loss: 1.0575 - mae: 1.0575 - mse: 1.7257 - val_loss: 1.1727 - val_mae: 1.1727 - val_mse: 2.1044\n",
            "Epoch 451/500\n",
            "10/10 [==============================] - 0s 4ms/step - loss: 1.0561 - mae: 1.0561 - mse: 1.7210 - val_loss: 1.1717 - val_mae: 1.1717 - val_mse: 2.0999\n",
            "Epoch 452/500\n",
            "10/10 [==============================] - 0s 4ms/step - loss: 1.0548 - mae: 1.0548 - mse: 1.7165 - val_loss: 1.1706 - val_mae: 1.1706 - val_mse: 2.0953\n",
            "Epoch 453/500\n",
            "10/10 [==============================] - 0s 5ms/step - loss: 1.0535 - mae: 1.0535 - mse: 1.7123 - val_loss: 1.1690 - val_mae: 1.1690 - val_mse: 2.0902\n",
            "Epoch 454/500\n",
            "10/10 [==============================] - 0s 5ms/step - loss: 1.0523 - mae: 1.0523 - mse: 1.7079 - val_loss: 1.1679 - val_mae: 1.1679 - val_mse: 2.0856\n",
            "Epoch 455/500\n",
            "10/10 [==============================] - 0s 4ms/step - loss: 1.0509 - mae: 1.0509 - mse: 1.7039 - val_loss: 1.1656 - val_mae: 1.1656 - val_mse: 2.0797\n",
            "Epoch 456/500\n",
            "10/10 [==============================] - 0s 6ms/step - loss: 1.0495 - mae: 1.0495 - mse: 1.6995 - val_loss: 1.1640 - val_mae: 1.1640 - val_mse: 2.0746\n",
            "Epoch 457/500\n",
            "10/10 [==============================] - 0s 4ms/step - loss: 1.0482 - mae: 1.0482 - mse: 1.6953 - val_loss: 1.1631 - val_mae: 1.1631 - val_mse: 2.0702\n",
            "Epoch 458/500\n",
            "10/10 [==============================] - 0s 5ms/step - loss: 1.0469 - mae: 1.0469 - mse: 1.6909 - val_loss: 1.1615 - val_mae: 1.1615 - val_mse: 2.0650\n",
            "Epoch 459/500\n",
            "10/10 [==============================] - 0s 4ms/step - loss: 1.0455 - mae: 1.0455 - mse: 1.6866 - val_loss: 1.1596 - val_mae: 1.1596 - val_mse: 2.0595\n",
            "Epoch 460/500\n",
            "10/10 [==============================] - 0s 5ms/step - loss: 1.0442 - mae: 1.0442 - mse: 1.6825 - val_loss: 1.1584 - val_mae: 1.1584 - val_mse: 2.0547\n",
            "Epoch 461/500\n",
            "10/10 [==============================] - 0s 5ms/step - loss: 1.0430 - mae: 1.0430 - mse: 1.6780 - val_loss: 1.1568 - val_mae: 1.1568 - val_mse: 2.0497\n",
            "Epoch 462/500\n",
            "10/10 [==============================] - 0s 4ms/step - loss: 1.0416 - mae: 1.0416 - mse: 1.6739 - val_loss: 1.1548 - val_mae: 1.1548 - val_mse: 2.0440\n",
            "Epoch 463/500\n",
            "10/10 [==============================] - 0s 5ms/step - loss: 1.0402 - mae: 1.0402 - mse: 1.6696 - val_loss: 1.1536 - val_mae: 1.1536 - val_mse: 2.0393\n",
            "Epoch 464/500\n",
            "10/10 [==============================] - 0s 5ms/step - loss: 1.0389 - mae: 1.0389 - mse: 1.6652 - val_loss: 1.1525 - val_mae: 1.1525 - val_mse: 2.0347\n",
            "Epoch 465/500\n",
            "10/10 [==============================] - 0s 5ms/step - loss: 1.0375 - mae: 1.0375 - mse: 1.6608 - val_loss: 1.1507 - val_mae: 1.1507 - val_mse: 2.0293\n",
            "Epoch 466/500\n",
            "10/10 [==============================] - 0s 5ms/step - loss: 1.0361 - mae: 1.0361 - mse: 1.6564 - val_loss: 1.1496 - val_mae: 1.1496 - val_mse: 2.0247\n",
            "Epoch 467/500\n",
            "10/10 [==============================] - 0s 5ms/step - loss: 1.0349 - mae: 1.0349 - mse: 1.6521 - val_loss: 1.1474 - val_mae: 1.1474 - val_mse: 2.0190\n",
            "Epoch 468/500\n",
            "10/10 [==============================] - 0s 4ms/step - loss: 1.0335 - mae: 1.0335 - mse: 1.6481 - val_loss: 1.1468 - val_mae: 1.1468 - val_mse: 2.0149\n",
            "Epoch 469/500\n",
            "10/10 [==============================] - 0s 4ms/step - loss: 1.0321 - mae: 1.0321 - mse: 1.6432 - val_loss: 1.1456 - val_mae: 1.1456 - val_mse: 2.0102\n",
            "Epoch 470/500\n",
            "10/10 [==============================] - 0s 5ms/step - loss: 1.0308 - mae: 1.0308 - mse: 1.6390 - val_loss: 1.1441 - val_mae: 1.1441 - val_mse: 2.0051\n",
            "Epoch 471/500\n",
            "10/10 [==============================] - 0s 4ms/step - loss: 1.0296 - mae: 1.0296 - mse: 1.6355 - val_loss: 1.1412 - val_mae: 1.1412 - val_mse: 1.9986\n",
            "Epoch 472/500\n",
            "10/10 [==============================] - 0s 5ms/step - loss: 1.0281 - mae: 1.0281 - mse: 1.6307 - val_loss: 1.1407 - val_mae: 1.1407 - val_mse: 1.9947\n",
            "Epoch 473/500\n",
            "10/10 [==============================] - 0s 4ms/step - loss: 1.0266 - mae: 1.0266 - mse: 1.6261 - val_loss: 1.1388 - val_mae: 1.1388 - val_mse: 1.9892\n",
            "Epoch 474/500\n",
            "10/10 [==============================] - 0s 4ms/step - loss: 1.0253 - mae: 1.0253 - mse: 1.6220 - val_loss: 1.1370 - val_mae: 1.1370 - val_mse: 1.9838\n",
            "Epoch 475/500\n",
            "10/10 [==============================] - 0s 5ms/step - loss: 1.0239 - mae: 1.0239 - mse: 1.6179 - val_loss: 1.1349 - val_mae: 1.1349 - val_mse: 1.9782\n",
            "Epoch 476/500\n",
            "10/10 [==============================] - 0s 6ms/step - loss: 1.0226 - mae: 1.0226 - mse: 1.6138 - val_loss: 1.1340 - val_mae: 1.1340 - val_mse: 1.9737\n",
            "Epoch 477/500\n",
            "10/10 [==============================] - 0s 5ms/step - loss: 1.0212 - mae: 1.0212 - mse: 1.6091 - val_loss: 1.1323 - val_mae: 1.1323 - val_mse: 1.9686\n",
            "Epoch 478/500\n",
            "10/10 [==============================] - 0s 5ms/step - loss: 1.0198 - mae: 1.0198 - mse: 1.6050 - val_loss: 1.1304 - val_mae: 1.1304 - val_mse: 1.9631\n",
            "Epoch 479/500\n",
            "10/10 [==============================] - 0s 5ms/step - loss: 1.0185 - mae: 1.0185 - mse: 1.6005 - val_loss: 1.1299 - val_mae: 1.1299 - val_mse: 1.9591\n",
            "Epoch 480/500\n",
            "10/10 [==============================] - 0s 4ms/step - loss: 1.0170 - mae: 1.0170 - mse: 1.5958 - val_loss: 1.1283 - val_mae: 1.1283 - val_mse: 1.9540\n",
            "Epoch 481/500\n",
            "10/10 [==============================] - 0s 5ms/step - loss: 1.0157 - mae: 1.0157 - mse: 1.5919 - val_loss: 1.1267 - val_mae: 1.1267 - val_mse: 1.9488\n",
            "Epoch 482/500\n",
            "10/10 [==============================] - 0s 4ms/step - loss: 1.0143 - mae: 1.0143 - mse: 1.5872 - val_loss: 1.1256 - val_mae: 1.1256 - val_mse: 1.9442\n",
            "Epoch 483/500\n",
            "10/10 [==============================] - 0s 6ms/step - loss: 1.0128 - mae: 1.0128 - mse: 1.5827 - val_loss: 1.1234 - val_mae: 1.1234 - val_mse: 1.9386\n",
            "Epoch 484/500\n",
            "10/10 [==============================] - 0s 5ms/step - loss: 1.0115 - mae: 1.0115 - mse: 1.5787 - val_loss: 1.1218 - val_mae: 1.1218 - val_mse: 1.9335\n",
            "Epoch 485/500\n",
            "10/10 [==============================] - 0s 5ms/step - loss: 1.0101 - mae: 1.0101 - mse: 1.5745 - val_loss: 1.1198 - val_mae: 1.1198 - val_mse: 1.9279\n",
            "Epoch 486/500\n",
            "10/10 [==============================] - 0s 5ms/step - loss: 1.0088 - mae: 1.0088 - mse: 1.5701 - val_loss: 1.1192 - val_mae: 1.1192 - val_mse: 1.9239\n",
            "Epoch 487/500\n",
            "10/10 [==============================] - 0s 5ms/step - loss: 1.0073 - mae: 1.0073 - mse: 1.5658 - val_loss: 1.1167 - val_mae: 1.1167 - val_mse: 1.9179\n",
            "Epoch 488/500\n",
            "10/10 [==============================] - 0s 4ms/step - loss: 1.0059 - mae: 1.0059 - mse: 1.5617 - val_loss: 1.1149 - val_mae: 1.1149 - val_mse: 1.9126\n",
            "Epoch 489/500\n",
            "10/10 [==============================] - 0s 5ms/step - loss: 1.0048 - mae: 1.0048 - mse: 1.5583 - val_loss: 1.1124 - val_mae: 1.1124 - val_mse: 1.9066\n",
            "Epoch 490/500\n",
            "10/10 [==============================] - 0s 4ms/step - loss: 1.0031 - mae: 1.0031 - mse: 1.5535 - val_loss: 1.1118 - val_mae: 1.1118 - val_mse: 1.9025\n",
            "Epoch 491/500\n",
            "10/10 [==============================] - 0s 5ms/step - loss: 1.0017 - mae: 1.0017 - mse: 1.5490 - val_loss: 1.1105 - val_mae: 1.1105 - val_mse: 1.8976\n",
            "Epoch 492/500\n",
            "10/10 [==============================] - 0s 4ms/step - loss: 1.0003 - mae: 1.0003 - mse: 1.5444 - val_loss: 1.1095 - val_mae: 1.1095 - val_mse: 1.8931\n",
            "Epoch 493/500\n",
            "10/10 [==============================] - 0s 5ms/step - loss: 0.9989 - mae: 0.9989 - mse: 1.5399 - val_loss: 1.1077 - val_mae: 1.1077 - val_mse: 1.8879\n",
            "Epoch 494/500\n",
            "10/10 [==============================] - 0s 5ms/step - loss: 0.9978 - mae: 0.9978 - mse: 1.5359 - val_loss: 1.1080 - val_mae: 1.1080 - val_mse: 1.8847\n",
            "Epoch 495/500\n",
            "10/10 [==============================] - 0s 5ms/step - loss: 0.9961 - mae: 0.9961 - mse: 1.5304 - val_loss: 1.1059 - val_mae: 1.1059 - val_mse: 1.8791\n",
            "Epoch 496/500\n",
            "10/10 [==============================] - 0s 5ms/step - loss: 0.9947 - mae: 0.9947 - mse: 1.5263 - val_loss: 1.1040 - val_mae: 1.1040 - val_mse: 1.8738\n",
            "Epoch 497/500\n",
            "10/10 [==============================] - 0s 4ms/step - loss: 0.9934 - mae: 0.9934 - mse: 1.5221 - val_loss: 1.1028 - val_mae: 1.1028 - val_mse: 1.8692\n",
            "Epoch 498/500\n",
            "10/10 [==============================] - 0s 5ms/step - loss: 0.9920 - mae: 0.9920 - mse: 1.5176 - val_loss: 1.1016 - val_mae: 1.1016 - val_mse: 1.8645\n",
            "Epoch 499/500\n",
            "10/10 [==============================] - 0s 7ms/step - loss: 0.9905 - mae: 0.9905 - mse: 1.5135 - val_loss: 1.0994 - val_mae: 1.0994 - val_mse: 1.8587\n",
            "Epoch 500/500\n",
            "10/10 [==============================] - 0s 5ms/step - loss: 0.9892 - mae: 0.9892 - mse: 1.5096 - val_loss: 1.0977 - val_mae: 1.0977 - val_mse: 1.8537\n"
          ],
          "name": "stdout"
        }
      ]
    },
    {
      "cell_type": "code",
      "metadata": {
        "colab": {
          "base_uri": "https://localhost:8080/"
        },
        "id": "AEDcot-7vK9Y",
        "outputId": "0a61d63d-c816-4c86-e2a6-3f99aef1fbd5"
      },
      "source": [
        "model.summary()"
      ],
      "execution_count": null,
      "outputs": [
        {
          "output_type": "stream",
          "text": [
            "Model: \"sequential\"\n",
            "_________________________________________________________________\n",
            "Layer (type)                 Output Shape              Param #   \n",
            "=================================================================\n",
            "dense (Dense)                (None, 1)                 2         \n",
            "=================================================================\n",
            "Total params: 2\n",
            "Trainable params: 2\n",
            "Non-trainable params: 0\n",
            "_________________________________________________________________\n"
          ],
          "name": "stdout"
        }
      ]
    },
    {
      "cell_type": "code",
      "metadata": {
        "colab": {
          "base_uri": "https://localhost:8080/",
          "height": 1000
        },
        "id": "sAp9Ne5UvQnx",
        "outputId": "86dfc66c-cc68-416f-bf9b-dc41efddbc96"
      },
      "source": [
        "def curvePlots(tempString):\n",
        "  plt.plot(history.history[tempString])\n",
        "  plt.plot(history.history[f'val_{tempString}'])\n",
        "  plt.xlabel('NumEpochs')\n",
        "  plt.ylabel(tempString)\n",
        "  plt.legend([tempString, f'val_{tempString}'])\n",
        "  plt.show()\n",
        "\n",
        "\n",
        "curvePlots('mse')\n",
        "curvePlots('mae')\n",
        "curvePlots('loss')"
      ],
      "execution_count": null,
      "outputs": [
        {
          "output_type": "display_data",
          "data": {
            "image/png": "[encoded data removed]",
            "text/plain": [
              "<Figure size 576x396 with 1 Axes>"
            ]
          },
          "metadata": {
            "tags": []
          }
        },
        {
          "output_type": "display_data",
          "data": {
            "image/png": "[encoded data removed]",
            "text/plain": [
              "<Figure size 576x396 with 1 Axes>"
            ]
          },
          "metadata": {
            "tags": []
          }
        },
        {
          "output_type": "display_data",
          "data": {
            "image/png": "[encoded data removed]",
            "text/plain": [
              "<Figure size 576x396 with 1 Axes>"
            ]
          },
          "metadata": {
            "tags": []
          }
        }
      ]
    },
    {
      "cell_type": "code",
      "metadata": {
        "colab": {
          "base_uri": "https://localhost:8080/"
        },
        "id": "Pm_y2659vVwH",
        "outputId": "5cfd07ae-48a9-4650-e4b5-cddedd4f66d9"
      },
      "source": [
        "model.predict([1])"
      ],
      "execution_count": null,
      "outputs": [
        {
          "output_type": "execute_result",
          "data": {
            "text/plain": [
              "array([[4.5385823]], dtype=float32)"
            ]
          },
          "metadata": {
            "tags": []
          },
          "execution_count": 32
        }
      ]
    },
    {
      "cell_type": "code",
      "metadata": {
        "colab": {
          "base_uri": "https://localhost:8080/"
        },
        "id": "cuCtPxfjveDG",
        "outputId": "2ee8bfa0-95c4-496b-a869-ece576857fc0"
      },
      "source": [
        "print(f'Prediction for input value 1: {model.predict([1])}')\n",
        "\n",
        "\n",
        "tempListforPreds = [1,2,3,4,5]\n",
        "print(f'''\n",
        "\n",
        "input List = {tempListforPreds}\n",
        "\n",
        "\n",
        "List of Predictions:\n",
        "{model.predict(tempListforPreds)}\n",
        "\n",
        "List of Predictions (flattened out):\n",
        "{model.predict(tempListforPreds).flatten()}\n",
        "''')"
      ],
      "execution_count": null,
      "outputs": [
        {
          "output_type": "stream",
          "text": [
            "Prediction for input value 1: [[4.5385823]]\n",
            "\n",
            "\n",
            "input List = [1, 2, 3, 4, 5]\n",
            "\n",
            "\n",
            "List of Predictions:\n",
            "[[ 4.5385823]\n",
            " [ 6.101493 ]\n",
            " [ 7.664403 ]\n",
            " [ 9.227313 ]\n",
            " [10.790223 ]]\n",
            "\n",
            "List of Predictions (flattened out):\n",
            "[ 4.5385823  6.101493   7.664403   9.227313  10.790223 ]\n",
            "\n"
          ],
          "name": "stdout"
        }
      ]
    },
    {
      "cell_type": "code",
      "metadata": {
        "colab": {
          "base_uri": "https://localhost:8080/"
        },
        "id": "CH98xpA5vmP2",
        "outputId": "813b6959-0ec3-4cf7-9b63-2e901af95017"
      },
      "source": [
        "print(testFeatures)"
      ],
      "execution_count": null,
      "outputs": [
        {
          "output_type": "stream",
          "text": [
            "     SOP\n",
            "9    3.5\n",
            "25   4.5\n",
            "28   2.0\n",
            "31   4.0\n",
            "32   3.0\n",
            "..   ...\n",
            "370  2.5\n",
            "372  4.5\n",
            "384  5.0\n",
            "386  2.5\n",
            "398  3.5\n",
            "\n",
            "[80 rows x 1 columns]\n"
          ],
          "name": "stdout"
        }
      ]
    },
    {
      "cell_type": "code",
      "metadata": {
        "id": "c71na5xHvuzv"
      },
      "source": [
        "testPreds = model.predict(testFeatures).flatten() "
      ],
      "execution_count": null,
      "outputs": []
    },
    {
      "cell_type": "code",
      "metadata": {
        "colab": {
          "base_uri": "https://localhost:8080/"
        },
        "id": "-FfXwK86v3IL",
        "outputId": "552eabac-d0b4-4a88-e6c6-310cb0553cb8"
      },
      "source": [
        "print(len(testPreds))\n",
        "print(testPreds)"
      ],
      "execution_count": null,
      "outputs": [
        {
          "output_type": "stream",
          "text": [
            "80\n",
            "[ 8.445858  10.008768   6.101493   9.227313   7.664403   7.664403\n",
            "  9.227313   6.882948  10.008768   9.227313   9.227313  10.790223\n",
            " 10.790223  10.790223  10.008768   8.445858  10.008768  10.790223\n",
            "  9.227313   9.227313  10.008768   6.101493   7.664403  10.008768\n",
            "  6.882948   8.445858  10.790223   7.664403  10.790223   8.445858\n",
            " 10.008768   9.227313   9.227313   8.445858   9.227313  10.008768\n",
            " 10.008768  10.008768   7.664403   8.445858  10.008768   9.227313\n",
            " 10.790223   8.445858   8.445858   6.882948   6.882948   9.227313\n",
            "  6.882948   6.882948   7.664403   4.5385823  6.882948   9.227313\n",
            " 10.790223   6.882948   5.320038   4.5385823  7.664403   9.227313\n",
            "  6.101493   7.664403   7.664403   9.227313  10.790223   9.227313\n",
            "  5.320038   4.5385823  8.445858   6.101493   8.445858   6.101493\n",
            " 10.008768   8.445858   6.101493   6.882948  10.008768  10.790223\n",
            "  6.882948   8.445858 ]\n"
          ],
          "name": "stdout"
        }
      ]
    },
    {
      "cell_type": "code",
      "metadata": {
        "colab": {
          "base_uri": "https://localhost:8080/",
          "height": 361
        },
        "id": "hlHVCmxav5Eu",
        "outputId": "b1fca8a4-9a74-45a9-e296-65e895b624a5"
      },
      "source": [
        "def predPlot(labels, predictions):\n",
        "  plt.scatter(labels, predictions)\n",
        "  plt.ylabel('Predictions')\n",
        "  plt.xlabel('True Value or Labels')\n",
        "  plt.axis('equal')\n",
        "  plt.axis('square')\n",
        "  plt.xlim([0, plt.xlim()[1]])\n",
        "  plt.ylim([0, plt.ylim()[1]])\n",
        "  plt.show()\n",
        "\n",
        "predPlot(testLabels, testPreds)"
      ],
      "execution_count": null,
      "outputs": [
        {
          "output_type": "display_data",
          "data": {
            "image/png": "[encoded data removed]",
            "text/plain": [
              "<Figure size 576x396 with 1 Axes>"
            ]
          },
          "metadata": {
            "tags": []
          }
        }
      ]
    },
    {
      "cell_type": "code",
      "metadata": {
        "colab": {
          "base_uri": "https://localhost:8080/",
          "height": 361
        },
        "id": "jLoLsf9_zJHC",
        "outputId": "b1d7cba7-23cb-4c8e-cae4-1de1761d8440"
      },
      "source": [
        "def errorPlot(preds, labels, counts):\n",
        "  errors = preds - labels\n",
        "  plt.hist(errors, counts)\n",
        "  plt.xlabel('Error')\n",
        "  plt.ylabel('Counts')\n",
        "  plt.show()\n",
        "\n",
        "errorPlot(testPreds, testLabels, numEpochs)"
      ],
      "execution_count": null,
      "outputs": [
        {
          "output_type": "display_data",
          "data": {
            "image/png": "[encoded data removed]",
            "text/plain": [
              "<Figure size 576x396 with 1 Axes>"
            ]
          },
          "metadata": {
            "tags": []
          }
        }
      ]
    }
  ]
}